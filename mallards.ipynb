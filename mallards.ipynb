{
 "cells": [
  {
   "cell_type": "code",
   "execution_count": 5,
   "id": "52b3263f",
   "metadata": {},
   "outputs": [],
   "source": [
    "import pandas as pd\n",
    "import numpy as np\n",
    "from sklearn.metrics import confusion_matrix\n",
    "from sklearn import tree\n",
    "\n",
    "mallards=pd.read_excel(\"ConstrainedSet_.xlsx\")"
   ]
  },
  {
   "cell_type": "code",
   "execution_count": 6,
   "id": "8ef21823",
   "metadata": {},
   "outputs": [
    {
     "name": "stdout",
     "output_type": "stream",
     "text": [
      "   population  farmed       date       hour          v1       mid  slatitude  \\\n",
      "0          73       0 2012-09-12   15:32:58  1058974378    3564.0  56.440033   \n",
      "1          73       0 2012-09-12   16:32:22  1058977942    3449.0  56.439972   \n",
      "2          73       0 2012-09-12   17:29:51  1058981391    3493.0  56.440144   \n",
      "3          73       0 2012-09-12   18:28:04  1058984884  161899.0  56.440147   \n",
      "4          73       0 2012-09-14   15:26:23  1059146783    3670.0  56.439632   \n",
      "\n",
      "   slongitude      v2  dlatitude  dlongitude  \n",
      "0   13.992838  737.60        NaN         NaN  \n",
      "1   13.992728    9.58        NaN         NaN  \n",
      "2   13.992794   19.55        NaN         NaN  \n",
      "3   13.992643    9.29        NaN         NaN  \n",
      "4   13.992536   59.98        NaN         NaN  \n"
     ]
    }
   ],
   "source": [
    "print(mallards.head(5))"
   ]
  },
  {
   "cell_type": "code",
   "execution_count": 20,
   "id": "5f7077ac",
   "metadata": {},
   "outputs": [
    {
     "name": "stdout",
     "output_type": "stream",
     "text": [
      "       population  farmed       date       hour       mid  slatitude  \\\n",
      "0              73       0 2012-09-12   15:32:58    3564.0  56.440033   \n",
      "1              73       0 2012-09-12   16:32:22    3449.0  56.439972   \n",
      "2              73       0 2012-09-12   17:29:51    3493.0  56.440144   \n",
      "3              73       0 2012-09-12   18:28:04  161899.0  56.440147   \n",
      "4              73       0 2012-09-14   15:26:23    3670.0  56.439632   \n",
      "...           ...     ...        ...        ...       ...        ...   \n",
      "19910         111       0 2012-10-03   18:46:46    3596.0  56.440178   \n",
      "19911         111       0 2012-10-03   19:46:42    3622.0  56.439957   \n",
      "19912         111       0 2012-10-03   20:47:04    3749.0  56.440022   \n",
      "19913         111       0 2012-10-03   21:49:33    3566.0  56.440029   \n",
      "19914         111       0 2012-10-03   22:48:59       NaN  56.440067   \n",
      "\n",
      "       slongitude      v2  \n",
      "0       13.992838  737.60  \n",
      "1       13.992728    9.58  \n",
      "2       13.992794   19.55  \n",
      "3       13.992643    9.29  \n",
      "4       13.992536   59.98  \n",
      "...           ...     ...  \n",
      "19910   13.992034   80.75  \n",
      "19911   13.992407   33.61  \n",
      "19912   13.992071   21.88  \n",
      "19913   13.992332   16.06  \n",
      "19914   13.993050   44.34  \n",
      "\n",
      "[19915 rows x 8 columns]\n"
     ]
    }
   ],
   "source": [
    "df=pd.DataFrame(mallards)\n",
    "features=df[[\"population\", \"farmed\", \"date\", \"hour\", \"mid\", \"slatitude\", \"slongitude\", \"v2\"]]\n",
    "print(features)"
   ]
  },
  {
   "cell_type": "code",
   "execution_count": null,
   "id": "ac2ade38",
   "metadata": {},
   "outputs": [],
   "source": []
  }
 ],
 "metadata": {
  "kernelspec": {
   "display_name": "Python 3 (ipykernel)",
   "language": "python",
   "name": "python3"
  },
  "language_info": {
   "codemirror_mode": {
    "name": "ipython",
    "version": 3
   },
   "file_extension": ".py",
   "mimetype": "text/x-python",
   "name": "python",
   "nbconvert_exporter": "python",
   "pygments_lexer": "ipython3",
   "version": "3.7.10"
  }
 },
 "nbformat": 4,
 "nbformat_minor": 5
}
