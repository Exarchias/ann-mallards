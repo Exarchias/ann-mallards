{
 "cells": [
  {
   "cell_type": "code",
   "execution_count": 5,
   "id": "52b3263f",
   "metadata": {},
   "outputs": [],
   "source": [
    "import pandas as pd\n",
    "import numpy as np\n",
    "from sklearn.metrics import confusion_matrix\n",
    "from sklearn import tree\n",
    "\n",
    "mallards=pd.read_excel(\"ConstrainedSet_.xlsx\")"
   ]
  },
  {
   "cell_type": "code",
   "execution_count": 6,
   "id": "8ef21823",
   "metadata": {},
   "outputs": [
    {
     "name": "stdout",
     "output_type": "stream",
     "text": [
      "   population  farmed       date       hour          v1       mid  slatitude  \\\n",
      "0          73       0 2012-09-12   15:32:58  1058974378    3564.0  56.440033   \n",
      "1          73       0 2012-09-12   16:32:22  1058977942    3449.0  56.439972   \n",
      "2          73       0 2012-09-12   17:29:51  1058981391    3493.0  56.440144   \n",
      "3          73       0 2012-09-12   18:28:04  1058984884  161899.0  56.440147   \n",
      "4          73       0 2012-09-14   15:26:23  1059146783    3670.0  56.439632   \n",
      "\n",
      "   slongitude      v2  dlatitude  dlongitude  \n",
      "0   13.992838  737.60        NaN         NaN  \n",
      "1   13.992728    9.58        NaN         NaN  \n",
      "2   13.992794   19.55        NaN         NaN  \n",
      "3   13.992643    9.29        NaN         NaN  \n",
      "4   13.992536   59.98        NaN         NaN  \n"
     ]
    }
   ],
   "source": [
    "print(mallards.head(5))"
   ]
  },
  {
   "cell_type": "code",
   "execution_count": null,
   "id": "df70e7c0",
   "metadata": {},
   "outputs": [],
   "source": []
  }
 ],
 "metadata": {
  "kernelspec": {
   "display_name": "Python 3 (ipykernel)",
   "language": "python",
   "name": "python3"
  },
  "language_info": {
   "codemirror_mode": {
    "name": "ipython",
    "version": 3
   },
   "file_extension": ".py",
   "mimetype": "text/x-python",
   "name": "python",
   "nbconvert_exporter": "python",
   "pygments_lexer": "ipython3",
   "version": "3.7.10"
  }
 },
 "nbformat": 4,
 "nbformat_minor": 5
}
