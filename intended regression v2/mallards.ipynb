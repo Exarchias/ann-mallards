{
 "cells": [
  {
   "cell_type": "code",
   "execution_count": 1,
   "id": "52b3263f",
   "metadata": {},
   "outputs": [],
   "source": [
    "import pandas as pd\n",
    "import numpy as np\n",
    "from sklearn.metrics import confusion_matrix\n",
    "from sklearn import tree\n",
    "from sklearn.model_selection import train_test_split\n",
    "from sklearn.preprocessing import StandardScaler\n",
    "import tensorflow as tf\n",
    "from keras.models import Sequential\n",
    "from keras.layers import Dense\n",
    "from sklearn.metrics import mean_absolute_error, mean_squared_error\n",
    "import matplotlib.pyplot as plt"
   ]
  },
  {
   "cell_type": "code",
   "execution_count": 2,
   "id": "8ef21823",
   "metadata": {},
   "outputs": [
    {
     "name": "stdout",
     "output_type": "stream",
     "text": [
      "       population  farmed       date       hour  slatitude  slongitude\n",
      "19910         111       0 2012-10-03   18:46:46  56.440178   13.992034\n",
      "19911         111       0 2012-10-03   19:46:42  56.439957   13.992407\n",
      "19912         111       0 2012-10-03   20:47:04  56.440022   13.992071\n",
      "19913         111       0 2012-10-03   21:49:33  56.440029   13.992332\n",
      "19914         111       0 2012-10-03   22:48:59  56.440067   13.993050\n"
     ]
    }
   ],
   "source": [
    "mallards=pd.read_excel(\"Mallards_initial data.xlsx\")\n",
    "mallards = mallards.loc[:, ~mallards.columns.str.contains('^Unnamed')]\n",
    "print(mallards.tail(5))"
   ]
  },
  {
   "cell_type": "code",
   "execution_count": 3,
   "id": "b4174874",
   "metadata": {},
   "outputs": [],
   "source": [
    "ordered = mallards.sort_values(by=[\"population\"]).reset_index(drop=True)"
   ]
  },
  {
   "cell_type": "code",
   "execution_count": 4,
   "id": "8d975cf2",
   "metadata": {},
   "outputs": [
    {
     "data": {
      "text/html": [
       "<div>\n",
       "<style scoped>\n",
       "    .dataframe tbody tr th:only-of-type {\n",
       "        vertical-align: middle;\n",
       "    }\n",
       "\n",
       "    .dataframe tbody tr th {\n",
       "        vertical-align: top;\n",
       "    }\n",
       "\n",
       "    .dataframe thead th {\n",
       "        text-align: right;\n",
       "    }\n",
       "</style>\n",
       "<table border=\"1\" class=\"dataframe\">\n",
       "  <thead>\n",
       "    <tr style=\"text-align: right;\">\n",
       "      <th></th>\n",
       "      <th>population</th>\n",
       "      <th>farmed</th>\n",
       "      <th>date</th>\n",
       "      <th>hour</th>\n",
       "      <th>slatitude</th>\n",
       "      <th>slongitude</th>\n",
       "    </tr>\n",
       "  </thead>\n",
       "  <tbody>\n",
       "    <tr>\n",
       "      <th>19905</th>\n",
       "      <td>153</td>\n",
       "      <td>1</td>\n",
       "      <td>2012-10-19</td>\n",
       "      <td>04:39:28</td>\n",
       "      <td>56.500893</td>\n",
       "      <td>13.970902</td>\n",
       "    </tr>\n",
       "    <tr>\n",
       "      <th>19906</th>\n",
       "      <td>153</td>\n",
       "      <td>1</td>\n",
       "      <td>2012-10-19</td>\n",
       "      <td>05:39:21</td>\n",
       "      <td>56.500786</td>\n",
       "      <td>13.970841</td>\n",
       "    </tr>\n",
       "    <tr>\n",
       "      <th>19907</th>\n",
       "      <td>153</td>\n",
       "      <td>1</td>\n",
       "      <td>2012-10-19</td>\n",
       "      <td>06:38:23</td>\n",
       "      <td>56.500889</td>\n",
       "      <td>13.971055</td>\n",
       "    </tr>\n",
       "    <tr>\n",
       "      <th>19908</th>\n",
       "      <td>153</td>\n",
       "      <td>1</td>\n",
       "      <td>2012-10-19</td>\n",
       "      <td>07:38:58</td>\n",
       "      <td>56.487541</td>\n",
       "      <td>13.965097</td>\n",
       "    </tr>\n",
       "    <tr>\n",
       "      <th>19909</th>\n",
       "      <td>153</td>\n",
       "      <td>1</td>\n",
       "      <td>2012-10-19</td>\n",
       "      <td>08:39:03</td>\n",
       "      <td>56.487274</td>\n",
       "      <td>13.965044</td>\n",
       "    </tr>\n",
       "    <tr>\n",
       "      <th>19910</th>\n",
       "      <td>153</td>\n",
       "      <td>1</td>\n",
       "      <td>2012-10-19</td>\n",
       "      <td>09:39:15</td>\n",
       "      <td>56.487392</td>\n",
       "      <td>13.965101</td>\n",
       "    </tr>\n",
       "    <tr>\n",
       "      <th>19911</th>\n",
       "      <td>153</td>\n",
       "      <td>1</td>\n",
       "      <td>2012-10-19</td>\n",
       "      <td>10:38:33</td>\n",
       "      <td>56.487503</td>\n",
       "      <td>13.965265</td>\n",
       "    </tr>\n",
       "    <tr>\n",
       "      <th>19912</th>\n",
       "      <td>153</td>\n",
       "      <td>1</td>\n",
       "      <td>2012-10-19</td>\n",
       "      <td>11:38:27</td>\n",
       "      <td>56.487041</td>\n",
       "      <td>13.965001</td>\n",
       "    </tr>\n",
       "    <tr>\n",
       "      <th>19913</th>\n",
       "      <td>153</td>\n",
       "      <td>1</td>\n",
       "      <td>2012-10-18</td>\n",
       "      <td>07:41:34</td>\n",
       "      <td>56.487537</td>\n",
       "      <td>13.965165</td>\n",
       "    </tr>\n",
       "    <tr>\n",
       "      <th>19914</th>\n",
       "      <td>153</td>\n",
       "      <td>1</td>\n",
       "      <td>2012-10-08</td>\n",
       "      <td>07:59:45</td>\n",
       "      <td>56.432728</td>\n",
       "      <td>13.989956</td>\n",
       "    </tr>\n",
       "  </tbody>\n",
       "</table>\n",
       "</div>"
      ],
      "text/plain": [
       "       population  farmed       date       hour  slatitude  slongitude\n",
       "19905         153       1 2012-10-19   04:39:28  56.500893   13.970902\n",
       "19906         153       1 2012-10-19   05:39:21  56.500786   13.970841\n",
       "19907         153       1 2012-10-19   06:38:23  56.500889   13.971055\n",
       "19908         153       1 2012-10-19   07:38:58  56.487541   13.965097\n",
       "19909         153       1 2012-10-19   08:39:03  56.487274   13.965044\n",
       "19910         153       1 2012-10-19   09:39:15  56.487392   13.965101\n",
       "19911         153       1 2012-10-19   10:38:33  56.487503   13.965265\n",
       "19912         153       1 2012-10-19   11:38:27  56.487041   13.965001\n",
       "19913         153       1 2012-10-18   07:41:34  56.487537   13.965165\n",
       "19914         153       1 2012-10-08   07:59:45  56.432728   13.989956"
      ]
     },
     "execution_count": 4,
     "metadata": {},
     "output_type": "execute_result"
    }
   ],
   "source": [
    "ordered.tail(10)"
   ]
  },
  {
   "cell_type": "code",
   "execution_count": 5,
   "id": "6968a146",
   "metadata": {},
   "outputs": [],
   "source": [
    "ordered.to_excel(\"mallards_ordered.xlsx\", index=False)"
   ]
  },
  {
   "cell_type": "code",
   "execution_count": 6,
   "id": "292f916e",
   "metadata": {},
   "outputs": [],
   "source": [
    "labelled = pd.DataFrame(columns=[\"dlatitude\", \"dlongitude\"])\n",
    "\n",
    "for i, row in ordered.iterrows():\n",
    "    if i == ordered.index[-1]:\n",
    "        break\n",
    "    if row[\"population\"] != ordered.iloc[i+1][\"population\"]:\n",
    "        label_row = pd.DataFrame({\"dlatitude\": row[\"slatitude\"], \"dlongitude\": row[\"slongitude\"]}, index=[i])\n",
    "    else:\n",
    "        label_row = pd.DataFrame({\"dlatitude\": ordered.iloc[i+1][\"slatitude\"], \"dlongitude\": ordered.iloc[i+1][\"slongitude\"]}, index=[i])\n",
    "    labelled = pd.concat([labelled, label_row])\n"
   ]
  },
  {
   "cell_type": "code",
   "execution_count": 7,
   "id": "9ef11735",
   "metadata": {},
   "outputs": [],
   "source": [
    "labelled.to_excel(\"mallards_labels.xlsx\", index=False)"
   ]
  },
  {
   "cell_type": "code",
   "execution_count": 8,
   "id": "363e01b3",
   "metadata": {},
   "outputs": [
    {
     "data": {
      "text/html": [
       "<div>\n",
       "<style scoped>\n",
       "    .dataframe tbody tr th:only-of-type {\n",
       "        vertical-align: middle;\n",
       "    }\n",
       "\n",
       "    .dataframe tbody tr th {\n",
       "        vertical-align: top;\n",
       "    }\n",
       "\n",
       "    .dataframe thead th {\n",
       "        text-align: right;\n",
       "    }\n",
       "</style>\n",
       "<table border=\"1\" class=\"dataframe\">\n",
       "  <thead>\n",
       "    <tr style=\"text-align: right;\">\n",
       "      <th></th>\n",
       "      <th>dlatitude</th>\n",
       "      <th>dlongitude</th>\n",
       "    </tr>\n",
       "  </thead>\n",
       "  <tbody>\n",
       "    <tr>\n",
       "      <th>0</th>\n",
       "      <td>56.439716</td>\n",
       "      <td>13.991791</td>\n",
       "    </tr>\n",
       "    <tr>\n",
       "      <th>1</th>\n",
       "      <td>56.440170</td>\n",
       "      <td>13.992670</td>\n",
       "    </tr>\n",
       "    <tr>\n",
       "      <th>2</th>\n",
       "      <td>56.440136</td>\n",
       "      <td>13.992191</td>\n",
       "    </tr>\n",
       "    <tr>\n",
       "      <th>3</th>\n",
       "      <td>56.441143</td>\n",
       "      <td>13.988527</td>\n",
       "    </tr>\n",
       "    <tr>\n",
       "      <th>4</th>\n",
       "      <td>56.439919</td>\n",
       "      <td>13.991972</td>\n",
       "    </tr>\n",
       "    <tr>\n",
       "      <th>5</th>\n",
       "      <td>56.439869</td>\n",
       "      <td>13.992161</td>\n",
       "    </tr>\n",
       "    <tr>\n",
       "      <th>6</th>\n",
       "      <td>56.439716</td>\n",
       "      <td>13.992242</td>\n",
       "    </tr>\n",
       "    <tr>\n",
       "      <th>7</th>\n",
       "      <td>56.439934</td>\n",
       "      <td>13.991963</td>\n",
       "    </tr>\n",
       "    <tr>\n",
       "      <th>8</th>\n",
       "      <td>56.439888</td>\n",
       "      <td>13.992043</td>\n",
       "    </tr>\n",
       "    <tr>\n",
       "      <th>9</th>\n",
       "      <td>56.440109</td>\n",
       "      <td>13.991787</td>\n",
       "    </tr>\n",
       "  </tbody>\n",
       "</table>\n",
       "</div>"
      ],
      "text/plain": [
       "   dlatitude  dlongitude\n",
       "0  56.439716   13.991791\n",
       "1  56.440170   13.992670\n",
       "2  56.440136   13.992191\n",
       "3  56.441143   13.988527\n",
       "4  56.439919   13.991972\n",
       "5  56.439869   13.992161\n",
       "6  56.439716   13.992242\n",
       "7  56.439934   13.991963\n",
       "8  56.439888   13.992043\n",
       "9  56.440109   13.991787"
      ]
     },
     "execution_count": 8,
     "metadata": {},
     "output_type": "execute_result"
    }
   ],
   "source": [
    "labelled.head(10)"
   ]
  },
  {
   "cell_type": "code",
   "execution_count": 9,
   "id": "e0a22988",
   "metadata": {},
   "outputs": [],
   "source": [
    "# drop last two rows from ordered dataframe\n",
    "ordered = ordered.iloc[:-2].reset_index(drop=True)\n",
    "\n",
    "# drop last row from labelled dataframe\n",
    "labelled = labelled.iloc[:-1].reset_index(drop=True)"
   ]
  },
  {
   "cell_type": "code",
   "execution_count": 10,
   "id": "d805752f",
   "metadata": {},
   "outputs": [
    {
     "name": "stdout",
     "output_type": "stream",
     "text": [
      "(19912, 6)\n"
     ]
    }
   ],
   "source": [
    "print(ordered.iloc[:-1].shape)"
   ]
  },
  {
   "cell_type": "code",
   "execution_count": 11,
   "id": "d6896518",
   "metadata": {},
   "outputs": [
    {
     "name": "stdout",
     "output_type": "stream",
     "text": [
      "(19912,)\n"
     ]
    }
   ],
   "source": [
    "print(labelled[\"dlatitude\"].iloc[:-1].shape)"
   ]
  },
  {
   "cell_type": "code",
   "execution_count": null,
   "id": "19eda7f1",
   "metadata": {},
   "outputs": [],
   "source": []
  },
  {
   "cell_type": "code",
   "execution_count": 12,
   "id": "61228875",
   "metadata": {},
   "outputs": [],
   "source": [
    "X_train, X_test, y_lat_train, y_lat_test = train_test_split(\n",
    "    ordered.iloc[:-1], labelled[\"dlatitude\"].iloc[:-1], test_size=0.2, random_state=42\n",
    ")\n",
    "X_train, X_test, y_long_train, y_long_test = train_test_split(\n",
    "    ordered.iloc[:-1], labelled[\"dlongitude\"].iloc[:-1], test_size=0.2, random_state=42\n",
    ")"
   ]
  },
  {
   "cell_type": "code",
   "execution_count": 13,
   "id": "06f8424f",
   "metadata": {},
   "outputs": [
    {
     "data": {
      "text/plain": [
       "(15929, 6)"
      ]
     },
     "execution_count": 13,
     "metadata": {},
     "output_type": "execute_result"
    }
   ],
   "source": [
    "X_train.shape"
   ]
  },
  {
   "cell_type": "code",
   "execution_count": 14,
   "id": "2aa59021",
   "metadata": {},
   "outputs": [],
   "source": [
    "scaler = StandardScaler()"
   ]
  },
  {
   "cell_type": "code",
   "execution_count": 15,
   "id": "c4d18a4d",
   "metadata": {},
   "outputs": [],
   "source": [
    "X_train_no_date = X_train.drop(['date', 'hour'], axis=1)\n",
    "X_train_scaled = scaler.fit_transform(X_train_no_date)\n",
    "X_train_scaled_df = pd.DataFrame(X_train_scaled, columns=X_train_no_date.columns, index=X_train_no_date.index)\n",
    "X_train_scaled_df[['date', 'hour']] = X_train[['date', 'hour']]"
   ]
  },
  {
   "cell_type": "code",
   "execution_count": 16,
   "id": "2d648092",
   "metadata": {},
   "outputs": [],
   "source": [
    "X_test_no_date = X_test.drop(['date', 'hour'], axis=1)\n",
    "X_test_scaled = scaler.transform(X_test_no_date)\n",
    "X_test_scaled_df = pd.DataFrame(X_test_scaled, columns=X_test_no_date.columns, index=X_test_no_date.index)\n",
    "X_test_scaled_df[['date', 'hour']] = X_test[['date', 'hour']]"
   ]
  },
  {
   "cell_type": "code",
   "execution_count": 17,
   "id": "c3c805b3",
   "metadata": {},
   "outputs": [],
   "source": [
    "# extract day of the week and hour of the day from datetime columns\n",
    "X_train_scaled_df['weekday'] = X_train_scaled_df['date'].dt.weekday\n",
    "X_train_scaled_df['hour'] = pd.to_datetime(X_train_scaled_df['hour'].str.strip(), format='%H:%M:%S')\n",
    "X_train_scaled_df['hour'] = X_train_scaled_df['hour'].dt.hour\n",
    "\n",
    "X_test_scaled_df['weekday'] = X_test_scaled_df['date'].dt.weekday\n",
    "X_test_scaled_df['hour'] = pd.to_datetime(X_test_scaled_df['hour'].str.strip(), format='%H:%M:%S')\n",
    "X_test_scaled_df['hour'] = X_test_scaled_df['hour'].dt.hour\n",
    "\n",
    "# drop the original datetime columns\n",
    "X_train_scaled_df = X_train_scaled_df.drop(['date'], axis=1)\n",
    "X_test_scaled_df = X_test_scaled_df.drop(['date'], axis=1)"
   ]
  },
  {
   "cell_type": "code",
   "execution_count": 18,
   "id": "fffd66ba",
   "metadata": {},
   "outputs": [
    {
     "data": {
      "text/html": [
       "<div>\n",
       "<style scoped>\n",
       "    .dataframe tbody tr th:only-of-type {\n",
       "        vertical-align: middle;\n",
       "    }\n",
       "\n",
       "    .dataframe tbody tr th {\n",
       "        vertical-align: top;\n",
       "    }\n",
       "\n",
       "    .dataframe thead th {\n",
       "        text-align: right;\n",
       "    }\n",
       "</style>\n",
       "<table border=\"1\" class=\"dataframe\">\n",
       "  <thead>\n",
       "    <tr style=\"text-align: right;\">\n",
       "      <th></th>\n",
       "      <th>population</th>\n",
       "      <th>farmed</th>\n",
       "      <th>slatitude</th>\n",
       "      <th>slongitude</th>\n",
       "      <th>hour</th>\n",
       "      <th>weekday</th>\n",
       "    </tr>\n",
       "  </thead>\n",
       "  <tbody>\n",
       "    <tr>\n",
       "      <th>11284</th>\n",
       "      <td>0.030042</td>\n",
       "      <td>-0.524242</td>\n",
       "      <td>0.125260</td>\n",
       "      <td>0.133639</td>\n",
       "      <td>21</td>\n",
       "      <td>5</td>\n",
       "    </tr>\n",
       "    <tr>\n",
       "      <th>11964</th>\n",
       "      <td>0.138355</td>\n",
       "      <td>-0.524242</td>\n",
       "      <td>0.127363</td>\n",
       "      <td>0.126657</td>\n",
       "      <td>19</td>\n",
       "      <td>0</td>\n",
       "    </tr>\n",
       "    <tr>\n",
       "      <th>5390</th>\n",
       "      <td>-0.879784</td>\n",
       "      <td>-0.524242</td>\n",
       "      <td>0.125449</td>\n",
       "      <td>0.134608</td>\n",
       "      <td>15</td>\n",
       "      <td>4</td>\n",
       "    </tr>\n",
       "    <tr>\n",
       "      <th>860</th>\n",
       "      <td>-1.356359</td>\n",
       "      <td>-0.524242</td>\n",
       "      <td>0.124414</td>\n",
       "      <td>0.135708</td>\n",
       "      <td>18</td>\n",
       "      <td>2</td>\n",
       "    </tr>\n",
       "    <tr>\n",
       "      <th>15795</th>\n",
       "      <td>0.939869</td>\n",
       "      <td>-0.524242</td>\n",
       "      <td>0.125983</td>\n",
       "      <td>0.133088</td>\n",
       "      <td>3</td>\n",
       "      <td>0</td>\n",
       "    </tr>\n",
       "  </tbody>\n",
       "</table>\n",
       "</div>"
      ],
      "text/plain": [
       "       population    farmed  slatitude  slongitude  hour  weekday\n",
       "11284    0.030042 -0.524242   0.125260    0.133639    21        5\n",
       "11964    0.138355 -0.524242   0.127363    0.126657    19        0\n",
       "5390    -0.879784 -0.524242   0.125449    0.134608    15        4\n",
       "860     -1.356359 -0.524242   0.124414    0.135708    18        2\n",
       "15795    0.939869 -0.524242   0.125983    0.133088     3        0"
      ]
     },
     "execution_count": 18,
     "metadata": {},
     "output_type": "execute_result"
    }
   ],
   "source": [
    "X_train_scaled_df.tail(5)"
   ]
  },
  {
   "cell_type": "code",
   "execution_count": 19,
   "id": "9b8ac7cb",
   "metadata": {},
   "outputs": [
    {
     "data": {
      "text/html": [
       "<div>\n",
       "<style scoped>\n",
       "    .dataframe tbody tr th:only-of-type {\n",
       "        vertical-align: middle;\n",
       "    }\n",
       "\n",
       "    .dataframe tbody tr th {\n",
       "        vertical-align: top;\n",
       "    }\n",
       "\n",
       "    .dataframe thead th {\n",
       "        text-align: right;\n",
       "    }\n",
       "</style>\n",
       "<table border=\"1\" class=\"dataframe\">\n",
       "  <thead>\n",
       "    <tr style=\"text-align: right;\">\n",
       "      <th></th>\n",
       "      <th>population</th>\n",
       "      <th>farmed</th>\n",
       "      <th>slatitude</th>\n",
       "      <th>slongitude</th>\n",
       "      <th>hour</th>\n",
       "      <th>weekday</th>\n",
       "    </tr>\n",
       "  </thead>\n",
       "  <tbody>\n",
       "    <tr>\n",
       "      <th>16564</th>\n",
       "      <td>1.113169</td>\n",
       "      <td>1.907515</td>\n",
       "      <td>0.123946</td>\n",
       "      <td>0.131636</td>\n",
       "      <td>21</td>\n",
       "      <td>4</td>\n",
       "    </tr>\n",
       "    <tr>\n",
       "      <th>19327</th>\n",
       "      <td>1.849695</td>\n",
       "      <td>1.907515</td>\n",
       "      <td>-4.781471</td>\n",
       "      <td>-1.732344</td>\n",
       "      <td>10</td>\n",
       "      <td>0</td>\n",
       "    </tr>\n",
       "    <tr>\n",
       "      <th>15022</th>\n",
       "      <td>0.874881</td>\n",
       "      <td>-0.524242</td>\n",
       "      <td>0.126517</td>\n",
       "      <td>0.128668</td>\n",
       "      <td>0</td>\n",
       "      <td>3</td>\n",
       "    </tr>\n",
       "    <tr>\n",
       "      <th>2457</th>\n",
       "      <td>-1.139734</td>\n",
       "      <td>-0.524242</td>\n",
       "      <td>0.124135</td>\n",
       "      <td>0.135700</td>\n",
       "      <td>5</td>\n",
       "      <td>1</td>\n",
       "    </tr>\n",
       "    <tr>\n",
       "      <th>9210</th>\n",
       "      <td>-0.229908</td>\n",
       "      <td>-0.524242</td>\n",
       "      <td>0.121909</td>\n",
       "      <td>0.135181</td>\n",
       "      <td>17</td>\n",
       "      <td>5</td>\n",
       "    </tr>\n",
       "  </tbody>\n",
       "</table>\n",
       "</div>"
      ],
      "text/plain": [
       "       population    farmed  slatitude  slongitude  hour  weekday\n",
       "16564    1.113169  1.907515   0.123946    0.131636    21        4\n",
       "19327    1.849695  1.907515  -4.781471   -1.732344    10        0\n",
       "15022    0.874881 -0.524242   0.126517    0.128668     0        3\n",
       "2457    -1.139734 -0.524242   0.124135    0.135700     5        1\n",
       "9210    -0.229908 -0.524242   0.121909    0.135181    17        5"
      ]
     },
     "execution_count": 19,
     "metadata": {},
     "output_type": "execute_result"
    }
   ],
   "source": [
    "X_test_scaled_df.tail(5)"
   ]
  },
  {
   "cell_type": "code",
   "execution_count": 20,
   "id": "5793c78e",
   "metadata": {},
   "outputs": [],
   "source": [
    "n_units = 32\n",
    "activation = 'relu'\n",
    "loss_function = 'mean_squared_error'"
   ]
  },
  {
   "cell_type": "code",
   "execution_count": 21,
   "id": "30d2973a",
   "metadata": {},
   "outputs": [],
   "source": [
    "modelLat = Sequential()\n",
    "modelLat.add(Dense(n_units, activation=activation, input_shape=(X_train_scaled_df.shape[1],)))\n",
    "modelLat.add(Dense(1))\n",
    "modelLat.compile(optimizer='adam', loss=loss_function)"
   ]
  },
  {
   "cell_type": "code",
   "execution_count": 22,
   "id": "239913bd",
   "metadata": {},
   "outputs": [],
   "source": [
    "modelLong = Sequential()\n",
    "modelLong.add(Dense(n_units, activation=activation, input_shape=(X_train_scaled_df.shape[1],)))\n",
    "modelLong.add(Dense(1))\n",
    "modelLong.compile(optimizer='adam', loss=loss_function)"
   ]
  },
  {
   "cell_type": "code",
   "execution_count": 23,
   "id": "ff81a61b",
   "metadata": {},
   "outputs": [
    {
     "name": "stdout",
     "output_type": "stream",
     "text": [
      "(15929, 6)\n"
     ]
    }
   ],
   "source": [
    "print(X_train_scaled_df.values.shape)"
   ]
  },
  {
   "cell_type": "code",
   "execution_count": 24,
   "id": "ececa6fa",
   "metadata": {},
   "outputs": [
    {
     "name": "stdout",
     "output_type": "stream",
     "text": [
      "(15929,)\n"
     ]
    }
   ],
   "source": [
    "print(y_lat_train.values.shape)"
   ]
  },
  {
   "cell_type": "code",
   "execution_count": 25,
   "id": "c44ccf62",
   "metadata": {},
   "outputs": [
    {
     "name": "stdout",
     "output_type": "stream",
     "text": [
      "(None, 6)\n"
     ]
    }
   ],
   "source": [
    "print(modelLat.input_shape)"
   ]
  },
  {
   "cell_type": "code",
   "execution_count": null,
   "id": "a1020c2a",
   "metadata": {},
   "outputs": [],
   "source": []
  },
  {
   "cell_type": "code",
   "execution_count": 26,
   "id": "7dbb70f0",
   "metadata": {},
   "outputs": [
    {
     "data": {
      "text/plain": [
       "(15929, 6)"
      ]
     },
     "execution_count": 26,
     "metadata": {},
     "output_type": "execute_result"
    }
   ],
   "source": [
    "X_train_scaled_df.shape"
   ]
  },
  {
   "cell_type": "code",
   "execution_count": 27,
   "id": "210c1b8c",
   "metadata": {},
   "outputs": [
    {
     "data": {
      "text/plain": [
       "(3983, 6)"
      ]
     },
     "execution_count": 27,
     "metadata": {},
     "output_type": "execute_result"
    }
   ],
   "source": [
    "X_test_scaled_df.shape"
   ]
  },
  {
   "cell_type": "code",
   "execution_count": null,
   "id": "2700e795",
   "metadata": {},
   "outputs": [],
   "source": []
  },
  {
   "cell_type": "code",
   "execution_count": 28,
   "id": "8217a66b",
   "metadata": {},
   "outputs": [
    {
     "name": "stdout",
     "output_type": "stream",
     "text": [
      "Epoch 1/50\n",
      "498/498 [==============================] - 1s 2ms/step - loss: 1277.1489 - val_loss: 434.8094\n",
      "Epoch 2/50\n",
      "498/498 [==============================] - 1s 2ms/step - loss: 334.5726 - val_loss: 249.0667\n",
      "Epoch 3/50\n",
      "498/498 [==============================] - 1s 2ms/step - loss: 194.4803 - val_loss: 138.1944\n",
      "Epoch 4/50\n",
      "498/498 [==============================] - 1s 2ms/step - loss: 95.7859 - val_loss: 56.1435\n",
      "Epoch 5/50\n",
      "498/498 [==============================] - 1s 2ms/step - loss: 33.2334 - val_loss: 16.0837\n",
      "Epoch 6/50\n",
      "498/498 [==============================] - 1s 2ms/step - loss: 9.7329 - val_loss: 5.1594\n",
      "Epoch 7/50\n",
      "498/498 [==============================] - 1s 1ms/step - loss: 3.6890 - val_loss: 2.1809\n",
      "Epoch 8/50\n",
      "498/498 [==============================] - 1s 1ms/step - loss: 1.8024 - val_loss: 1.1843\n",
      "Epoch 9/50\n",
      "498/498 [==============================] - 1s 2ms/step - loss: 1.0973 - val_loss: 0.7836\n",
      "Epoch 10/50\n",
      "498/498 [==============================] - 1s 2ms/step - loss: 0.7826 - val_loss: 0.5983\n",
      "Epoch 11/50\n",
      "498/498 [==============================] - 1s 2ms/step - loss: 0.6114 - val_loss: 0.4861\n",
      "Epoch 12/50\n",
      "498/498 [==============================] - 1s 1ms/step - loss: 0.4876 - val_loss: 0.4318\n",
      "Epoch 13/50\n",
      "498/498 [==============================] - 1s 1ms/step - loss: 0.4085 - val_loss: 0.3840\n",
      "Epoch 14/50\n",
      "498/498 [==============================] - 1s 1ms/step - loss: 0.3515 - val_loss: 0.3657\n",
      "Epoch 15/50\n",
      "498/498 [==============================] - 1s 1ms/step - loss: 0.3029 - val_loss: 0.3309\n",
      "Epoch 16/50\n",
      "498/498 [==============================] - 1s 2ms/step - loss: 0.2698 - val_loss: 0.3120\n",
      "Epoch 17/50\n",
      "498/498 [==============================] - 1s 1ms/step - loss: 0.2356 - val_loss: 0.2953\n",
      "Epoch 18/50\n",
      "498/498 [==============================] - 1s 2ms/step - loss: 0.2076 - val_loss: 0.2807\n",
      "Epoch 19/50\n",
      "498/498 [==============================] - 1s 2ms/step - loss: 0.1859 - val_loss: 0.2664\n",
      "Epoch 20/50\n",
      "498/498 [==============================] - 1s 2ms/step - loss: 0.1676 - val_loss: 0.2511\n",
      "Epoch 21/50\n",
      "498/498 [==============================] - 1s 2ms/step - loss: 0.1503 - val_loss: 0.2645\n",
      "Epoch 22/50\n",
      "498/498 [==============================] - 1s 2ms/step - loss: 0.1331 - val_loss: 0.2639\n",
      "Epoch 23/50\n",
      "498/498 [==============================] - 1s 2ms/step - loss: 0.1206 - val_loss: 0.2577\n",
      "Epoch 24/50\n",
      "498/498 [==============================] - 1s 2ms/step - loss: 0.1074 - val_loss: 0.2310\n",
      "Epoch 25/50\n",
      "498/498 [==============================] - 1s 2ms/step - loss: 0.0938 - val_loss: 0.2222\n",
      "Epoch 26/50\n",
      "498/498 [==============================] - 1s 1ms/step - loss: 0.0873 - val_loss: 0.2143\n",
      "Epoch 27/50\n",
      "498/498 [==============================] - 1s 2ms/step - loss: 0.0765 - val_loss: 0.2074\n",
      "Epoch 28/50\n",
      "498/498 [==============================] - 1s 2ms/step - loss: 0.0688 - val_loss: 0.2086\n",
      "Epoch 29/50\n",
      "498/498 [==============================] - 1s 1ms/step - loss: 0.0585 - val_loss: 0.2077\n",
      "Epoch 30/50\n",
      "498/498 [==============================] - 1s 1ms/step - loss: 0.0509 - val_loss: 0.2069\n",
      "Epoch 31/50\n",
      "498/498 [==============================] - 1s 2ms/step - loss: 0.0463 - val_loss: 0.1994\n",
      "Epoch 32/50\n",
      "498/498 [==============================] - 1s 1ms/step - loss: 0.0387 - val_loss: 0.1991\n",
      "Epoch 33/50\n",
      "498/498 [==============================] - 1s 2ms/step - loss: 0.0332 - val_loss: 0.2028\n",
      "Epoch 34/50\n",
      "498/498 [==============================] - 1s 1ms/step - loss: 0.0301 - val_loss: 0.2036\n",
      "Epoch 35/50\n",
      "498/498 [==============================] - 1s 2ms/step - loss: 0.0254 - val_loss: 0.2021\n",
      "Epoch 36/50\n",
      "498/498 [==============================] - 1s 1ms/step - loss: 0.0224 - val_loss: 0.2062\n",
      "Epoch 37/50\n",
      "498/498 [==============================] - 1s 1ms/step - loss: 0.0205 - val_loss: 0.2066\n",
      "Epoch 38/50\n",
      "498/498 [==============================] - 1s 1ms/step - loss: 0.0190 - val_loss: 0.2080\n",
      "Epoch 39/50\n",
      "498/498 [==============================] - 1s 2ms/step - loss: 0.0161 - val_loss: 0.2177\n",
      "Epoch 40/50\n",
      "498/498 [==============================] - 1s 2ms/step - loss: 0.0154 - val_loss: 0.2119\n",
      "Epoch 41/50\n",
      "498/498 [==============================] - 1s 2ms/step - loss: 0.0142 - val_loss: 0.2151\n",
      "Epoch 42/50\n",
      "498/498 [==============================] - 1s 2ms/step - loss: 0.0130 - val_loss: 0.2175\n",
      "Epoch 43/50\n",
      "498/498 [==============================] - 1s 2ms/step - loss: 0.0115 - val_loss: 0.2408\n",
      "Epoch 44/50\n",
      "498/498 [==============================] - 1s 2ms/step - loss: 0.0114 - val_loss: 0.2189\n",
      "Epoch 45/50\n",
      "498/498 [==============================] - 1s 1ms/step - loss: 0.0100 - val_loss: 0.2157\n",
      "Epoch 46/50\n",
      "498/498 [==============================] - 1s 2ms/step - loss: 0.0118 - val_loss: 0.2130\n",
      "Epoch 47/50\n",
      "498/498 [==============================] - 1s 1ms/step - loss: 0.0095 - val_loss: 0.2129\n",
      "Epoch 48/50\n",
      "498/498 [==============================] - 1s 1ms/step - loss: 0.0084 - val_loss: 0.2138\n",
      "Epoch 49/50\n",
      "498/498 [==============================] - 1s 1ms/step - loss: 0.0099 - val_loss: 0.2134\n",
      "Epoch 50/50\n",
      "498/498 [==============================] - 1s 1ms/step - loss: 0.0085 - val_loss: 0.2113\n"
     ]
    }
   ],
   "source": [
    "historyLat=modelLat.fit(X_train_scaled_df.values, y_lat_train, validation_data=(X_test_scaled_df.values, y_lat_test), epochs=50)"
   ]
  },
  {
   "cell_type": "code",
   "execution_count": 29,
   "id": "cdf13cde",
   "metadata": {},
   "outputs": [
    {
     "name": "stdout",
     "output_type": "stream",
     "text": [
      "Epoch 1/50\n",
      "498/498 [==============================] - 1s 2ms/step - loss: 45.1221 - val_loss: 13.8060\n",
      "Epoch 2/50\n",
      "498/498 [==============================] - 1s 1ms/step - loss: 7.7196 - val_loss: 3.1003\n",
      "Epoch 3/50\n",
      "498/498 [==============================] - 1s 1ms/step - loss: 1.4825 - val_loss: 0.5807\n",
      "Epoch 4/50\n",
      "498/498 [==============================] - 1s 1ms/step - loss: 0.3458 - val_loss: 0.2084\n",
      "Epoch 5/50\n",
      "498/498 [==============================] - 1s 1ms/step - loss: 0.1564 - val_loss: 0.1269\n",
      "Epoch 6/50\n",
      "498/498 [==============================] - 1s 1ms/step - loss: 0.1080 - val_loss: 0.0943\n",
      "Epoch 7/50\n",
      "498/498 [==============================] - 1s 2ms/step - loss: 0.0840 - val_loss: 0.0766\n",
      "Epoch 8/50\n",
      "498/498 [==============================] - 1s 2ms/step - loss: 0.0660 - val_loss: 0.0628\n",
      "Epoch 9/50\n",
      "498/498 [==============================] - 1s 2ms/step - loss: 0.0505 - val_loss: 0.0501\n",
      "Epoch 10/50\n",
      "498/498 [==============================] - 1s 2ms/step - loss: 0.0376 - val_loss: 0.0407\n",
      "Epoch 11/50\n",
      "498/498 [==============================] - 1s 2ms/step - loss: 0.0268 - val_loss: 0.0321\n",
      "Epoch 12/50\n",
      "498/498 [==============================] - 1s 2ms/step - loss: 0.0207 - val_loss: 0.0318\n",
      "Epoch 13/50\n",
      "498/498 [==============================] - 1s 2ms/step - loss: 0.0176 - val_loss: 0.0272\n",
      "Epoch 14/50\n",
      "498/498 [==============================] - 1s 1ms/step - loss: 0.0146 - val_loss: 0.0313\n",
      "Epoch 15/50\n",
      "498/498 [==============================] - 1s 1ms/step - loss: 0.0130 - val_loss: 0.0243\n",
      "Epoch 16/50\n",
      "498/498 [==============================] - 1s 2ms/step - loss: 0.0114 - val_loss: 0.0257\n",
      "Epoch 17/50\n",
      "498/498 [==============================] - 1s 1ms/step - loss: 0.0102 - val_loss: 0.0237\n",
      "Epoch 18/50\n",
      "498/498 [==============================] - 1s 2ms/step - loss: 0.0092 - val_loss: 0.0223\n",
      "Epoch 19/50\n",
      "498/498 [==============================] - 1s 1ms/step - loss: 0.0086 - val_loss: 0.0216\n",
      "Epoch 20/50\n",
      "498/498 [==============================] - 1s 2ms/step - loss: 0.0080 - val_loss: 0.0203\n",
      "Epoch 21/50\n",
      "498/498 [==============================] - 1s 2ms/step - loss: 0.0076 - val_loss: 0.0209\n",
      "Epoch 22/50\n",
      "498/498 [==============================] - 1s 1ms/step - loss: 0.0074 - val_loss: 0.0224\n",
      "Epoch 23/50\n",
      "498/498 [==============================] - 1s 1ms/step - loss: 0.0067 - val_loss: 0.0205\n",
      "Epoch 24/50\n",
      "498/498 [==============================] - 1s 2ms/step - loss: 0.0065 - val_loss: 0.0223\n",
      "Epoch 25/50\n",
      "498/498 [==============================] - 1s 2ms/step - loss: 0.0064 - val_loss: 0.0194\n",
      "Epoch 26/50\n",
      "498/498 [==============================] - 1s 2ms/step - loss: 0.0062 - val_loss: 0.0221\n",
      "Epoch 27/50\n",
      "498/498 [==============================] - 1s 2ms/step - loss: 0.0063 - val_loss: 0.0193\n",
      "Epoch 28/50\n",
      "498/498 [==============================] - 1s 2ms/step - loss: 0.0059 - val_loss: 0.0208\n",
      "Epoch 29/50\n",
      "498/498 [==============================] - 1s 2ms/step - loss: 0.0058 - val_loss: 0.0209\n",
      "Epoch 30/50\n",
      "498/498 [==============================] - 1s 2ms/step - loss: 0.0055 - val_loss: 0.0199\n",
      "Epoch 31/50\n",
      "498/498 [==============================] - 1s 2ms/step - loss: 0.0058 - val_loss: 0.0219\n",
      "Epoch 32/50\n",
      "498/498 [==============================] - 1s 1ms/step - loss: 0.0056 - val_loss: 0.0203\n",
      "Epoch 33/50\n",
      "498/498 [==============================] - 1s 1ms/step - loss: 0.0059 - val_loss: 0.0194\n",
      "Epoch 34/50\n",
      "498/498 [==============================] - 1s 1ms/step - loss: 0.0057 - val_loss: 0.0193\n",
      "Epoch 35/50\n",
      "498/498 [==============================] - 1s 1ms/step - loss: 0.0057 - val_loss: 0.0190\n",
      "Epoch 36/50\n",
      "498/498 [==============================] - 1s 2ms/step - loss: 0.0055 - val_loss: 0.0191\n",
      "Epoch 37/50\n",
      "498/498 [==============================] - 1s 1ms/step - loss: 0.0055 - val_loss: 0.0185\n",
      "Epoch 38/50\n",
      "498/498 [==============================] - 1s 2ms/step - loss: 0.0053 - val_loss: 0.0182\n",
      "Epoch 39/50\n",
      "498/498 [==============================] - 1s 1ms/step - loss: 0.0056 - val_loss: 0.0181\n",
      "Epoch 40/50\n",
      "498/498 [==============================] - 1s 1ms/step - loss: 0.0055 - val_loss: 0.0185\n",
      "Epoch 41/50\n",
      "498/498 [==============================] - 1s 1ms/step - loss: 0.0054 - val_loss: 0.0185\n",
      "Epoch 42/50\n",
      "498/498 [==============================] - 1s 2ms/step - loss: 0.0055 - val_loss: 0.0210\n",
      "Epoch 43/50\n",
      "498/498 [==============================] - 1s 2ms/step - loss: 0.0055 - val_loss: 0.0177\n",
      "Epoch 44/50\n",
      "498/498 [==============================] - 1s 2ms/step - loss: 0.0056 - val_loss: 0.0196\n",
      "Epoch 45/50\n",
      "498/498 [==============================] - 1s 2ms/step - loss: 0.0056 - val_loss: 0.0181\n",
      "Epoch 46/50\n",
      "498/498 [==============================] - 1s 2ms/step - loss: 0.0052 - val_loss: 0.0170\n",
      "Epoch 47/50\n",
      "498/498 [==============================] - 1s 2ms/step - loss: 0.0053 - val_loss: 0.0171\n",
      "Epoch 48/50\n",
      "498/498 [==============================] - 1s 2ms/step - loss: 0.0056 - val_loss: 0.0231\n",
      "Epoch 49/50\n",
      "498/498 [==============================] - 1s 2ms/step - loss: 0.0053 - val_loss: 0.0176\n",
      "Epoch 50/50\n",
      "498/498 [==============================] - 1s 2ms/step - loss: 0.0051 - val_loss: 0.0167\n"
     ]
    }
   ],
   "source": [
    "historyLong=modelLong.fit(X_train_scaled_df.values, y_long_train, validation_data=(X_test_scaled_df.values, y_long_test), epochs=50)"
   ]
  },
  {
   "cell_type": "code",
   "execution_count": null,
   "id": "ae185aa8",
   "metadata": {},
   "outputs": [],
   "source": []
  },
  {
   "cell_type": "code",
   "execution_count": 30,
   "id": "4f35d76b",
   "metadata": {},
   "outputs": [
    {
     "name": "stdout",
     "output_type": "stream",
     "text": [
      "Mean Absolute Error (MAE): 0.01984022090565352\n",
      "Root Mean Squared Error (RMSE): 0.12916225190899824\n"
     ]
    }
   ],
   "source": [
    "# Predict the Longitude values for the test set\n",
    "y_long_pred = modelLong.predict(X_test_scaled_df)\n",
    "\n",
    "# Compute the mean absolute error and root mean squared error\n",
    "mae = mean_absolute_error(y_long_test, y_long_pred)\n",
    "rmse = mean_squared_error(y_long_test, y_long_pred, squared=False)\n",
    "\n",
    "# Print the MAE and RMSE\n",
    "print('Mean Absolute Error (MAE):', mae)\n",
    "print('Root Mean Squared Error (RMSE):', rmse)"
   ]
  },
  {
   "cell_type": "code",
   "execution_count": 31,
   "id": "9a523b7e",
   "metadata": {},
   "outputs": [
    {
     "name": "stdout",
     "output_type": "stream",
     "text": [
      "Mean Absolute Error (MAE): 0.04863941966394287\n",
      "Root Mean Squared Error (RMSE): 0.4596598833756258\n"
     ]
    }
   ],
   "source": [
    "# Predict the Latitude values for the test set\n",
    "y_lat_pred = modelLat.predict(X_test_scaled_df)\n",
    "\n",
    "# Compute the mean absolute error and root mean squared error\n",
    "mae = mean_absolute_error(y_lat_test, y_lat_pred)\n",
    "rmse = mean_squared_error(y_lat_test, y_lat_pred, squared=False)\n",
    "\n",
    "# Print the MAE and RMSE\n",
    "print('Mean Absolute Error (MAE):', mae)\n",
    "print('Root Mean Squared Error (RMSE):', rmse)"
   ]
  },
  {
   "cell_type": "code",
   "execution_count": 32,
   "id": "055cd812",
   "metadata": {},
   "outputs": [
    {
     "data": {
      "image/png": "[encoded data removed]",
      "text/plain": [
       "<Figure size 432x288 with 1 Axes>"
      ]
     },
     "metadata": {
      "needs_background": "light"
     },
     "output_type": "display_data"
    }
   ],
   "source": [
    "# create scatter plot\n",
    "plt.scatter(y_lat_pred, y_long_pred, c='r', label='Predicted')\n",
    "plt.scatter(y_lat_test, y_long_test, c='b', label='Test')\n",
    "\n",
    "# add labels and legend\n",
    "plt.xlabel('Latitude')\n",
    "plt.ylabel('Longitude')\n",
    "plt.legend()\n",
    "\n",
    "# show plot\n",
    "plt.show()"
   ]
  },
  {
   "cell_type": "code",
   "execution_count": 33,
   "id": "a9e31f6d",
   "metadata": {},
   "outputs": [
    {
     "data": {
      "text/plain": [
       "(3983,)"
      ]
     },
     "execution_count": 33,
     "metadata": {},
     "output_type": "execute_result"
    }
   ],
   "source": [
    "X_test[\"population\"].shape"
   ]
  },
  {
   "cell_type": "code",
   "execution_count": 34,
   "id": "40ea331f",
   "metadata": {},
   "outputs": [
    {
     "data": {
      "text/plain": [
       "(3983, 1)"
      ]
     },
     "execution_count": 34,
     "metadata": {},
     "output_type": "execute_result"
    }
   ],
   "source": [
    "y_lat_test_comb = pd.DataFrame(y_lat_test)\n",
    "y_lat_test_comb.shape"
   ]
  },
  {
   "cell_type": "code",
   "execution_count": 35,
   "id": "f515addf",
   "metadata": {},
   "outputs": [
    {
     "data": {
      "text/plain": [
       "(3983, 1)"
      ]
     },
     "execution_count": 35,
     "metadata": {},
     "output_type": "execute_result"
    }
   ],
   "source": [
    "y_long_test_comb = pd.DataFrame(y_long_test)\n",
    "y_long_test_comb.shape"
   ]
  },
  {
   "cell_type": "code",
   "execution_count": 36,
   "id": "4b400871",
   "metadata": {},
   "outputs": [
    {
     "data": {
      "text/plain": [
       "(3983, 1)"
      ]
     },
     "execution_count": 36,
     "metadata": {},
     "output_type": "execute_result"
    }
   ],
   "source": [
    "y_lat_pred_comb = pd.DataFrame(y_lat_pred)\n",
    "y_lat_pred_comb.shape"
   ]
  },
  {
   "cell_type": "code",
   "execution_count": 37,
   "id": "82ec1fa0",
   "metadata": {},
   "outputs": [
    {
     "data": {
      "text/plain": [
       "(3983, 1)"
      ]
     },
     "execution_count": 37,
     "metadata": {},
     "output_type": "execute_result"
    }
   ],
   "source": [
    "y_long_pred_comb = pd.DataFrame(y_long_pred)\n",
    "y_long_pred_comb.shape"
   ]
  },
  {
   "cell_type": "code",
   "execution_count": 38,
   "id": "1a142a47",
   "metadata": {},
   "outputs": [
    {
     "data": {
      "text/plain": [
       "(3983, 1)"
      ]
     },
     "execution_count": 38,
     "metadata": {},
     "output_type": "execute_result"
    }
   ],
   "source": [
    "pop_df = pd.DataFrame(X_test[\"population\"].values.reshape(-1, 1))\n",
    "pop_df.shape"
   ]
  },
  {
   "cell_type": "code",
   "execution_count": 43,
   "id": "fe05beb0",
   "metadata": {},
   "outputs": [],
   "source": [
    "combined_df = pd.concat([pop_df, y_lat_test_comb, y_long_test_comb, y_lat_pred_comb, y_long_pred_comb], axis=1)\n",
    "combined_df.columns = [\"population\", \"latitude\", \"longitude\", \"Pred_latitude\", \"Pred_longitude\"]"
   ]
  },
  {
   "cell_type": "code",
   "execution_count": 45,
   "id": "3f68c9ea",
   "metadata": {},
   "outputs": [],
   "source": [
    "combined_df = combined_df.dropna()"
   ]
  },
  {
   "cell_type": "code",
   "execution_count": 46,
   "id": "f5c2515e",
   "metadata": {},
   "outputs": [
    {
     "data": {
      "text/html": [
       "<div>\n",
       "<style scoped>\n",
       "    .dataframe tbody tr th:only-of-type {\n",
       "        vertical-align: middle;\n",
       "    }\n",
       "\n",
       "    .dataframe tbody tr th {\n",
       "        vertical-align: top;\n",
       "    }\n",
       "\n",
       "    .dataframe thead th {\n",
       "        text-align: right;\n",
       "    }\n",
       "</style>\n",
       "<table border=\"1\" class=\"dataframe\">\n",
       "  <thead>\n",
       "    <tr style=\"text-align: right;\">\n",
       "      <th></th>\n",
       "      <th>population</th>\n",
       "      <th>latitude</th>\n",
       "      <th>longitude</th>\n",
       "      <th>Pred_latitude</th>\n",
       "      <th>Pred_longitude</th>\n",
       "    </tr>\n",
       "  </thead>\n",
       "  <tbody>\n",
       "    <tr>\n",
       "      <th>0</th>\n",
       "      <td>71.0</td>\n",
       "      <td>56.439716</td>\n",
       "      <td>13.991791</td>\n",
       "      <td>56.482265</td>\n",
       "      <td>14.004951</td>\n",
       "    </tr>\n",
       "    <tr>\n",
       "      <th>3</th>\n",
       "      <td>88.0</td>\n",
       "      <td>56.441143</td>\n",
       "      <td>13.988527</td>\n",
       "      <td>56.485630</td>\n",
       "      <td>14.004173</td>\n",
       "    </tr>\n",
       "    <tr>\n",
       "      <th>6</th>\n",
       "      <td>131.0</td>\n",
       "      <td>56.439716</td>\n",
       "      <td>13.992242</td>\n",
       "      <td>56.447189</td>\n",
       "      <td>14.007700</td>\n",
       "    </tr>\n",
       "    <tr>\n",
       "      <th>17</th>\n",
       "      <td>27.0</td>\n",
       "      <td>56.439903</td>\n",
       "      <td>13.992476</td>\n",
       "      <td>56.476940</td>\n",
       "      <td>13.992350</td>\n",
       "    </tr>\n",
       "    <tr>\n",
       "      <th>19</th>\n",
       "      <td>23.0</td>\n",
       "      <td>56.439484</td>\n",
       "      <td>13.992446</td>\n",
       "      <td>56.487740</td>\n",
       "      <td>13.992626</td>\n",
       "    </tr>\n",
       "    <tr>\n",
       "      <th>31</th>\n",
       "      <td>67.0</td>\n",
       "      <td>56.439350</td>\n",
       "      <td>13.992638</td>\n",
       "      <td>56.504692</td>\n",
       "      <td>13.999569</td>\n",
       "    </tr>\n",
       "    <tr>\n",
       "      <th>34</th>\n",
       "      <td>24.0</td>\n",
       "      <td>56.440166</td>\n",
       "      <td>13.992716</td>\n",
       "      <td>56.476429</td>\n",
       "      <td>13.981483</td>\n",
       "    </tr>\n",
       "    <tr>\n",
       "      <th>35</th>\n",
       "      <td>131.0</td>\n",
       "      <td>56.439930</td>\n",
       "      <td>13.992993</td>\n",
       "      <td>56.448952</td>\n",
       "      <td>14.007594</td>\n",
       "    </tr>\n",
       "    <tr>\n",
       "      <th>41</th>\n",
       "      <td>152.0</td>\n",
       "      <td>56.440140</td>\n",
       "      <td>13.992735</td>\n",
       "      <td>56.462879</td>\n",
       "      <td>14.049561</td>\n",
       "    </tr>\n",
       "    <tr>\n",
       "      <th>42</th>\n",
       "      <td>152.0</td>\n",
       "      <td>56.440044</td>\n",
       "      <td>13.992678</td>\n",
       "      <td>56.503170</td>\n",
       "      <td>14.035130</td>\n",
       "    </tr>\n",
       "    <tr>\n",
       "      <th>46</th>\n",
       "      <td>31.0</td>\n",
       "      <td>56.439293</td>\n",
       "      <td>13.992464</td>\n",
       "      <td>56.422321</td>\n",
       "      <td>13.966078</td>\n",
       "    </tr>\n",
       "    <tr>\n",
       "      <th>47</th>\n",
       "      <td>6.0</td>\n",
       "      <td>56.440098</td>\n",
       "      <td>13.992357</td>\n",
       "      <td>56.476070</td>\n",
       "      <td>13.987894</td>\n",
       "    </tr>\n",
       "    <tr>\n",
       "      <th>49</th>\n",
       "      <td>81.0</td>\n",
       "      <td>56.439430</td>\n",
       "      <td>13.992407</td>\n",
       "      <td>56.450302</td>\n",
       "      <td>13.983458</td>\n",
       "    </tr>\n",
       "    <tr>\n",
       "      <th>50</th>\n",
       "      <td>107.0</td>\n",
       "      <td>56.440014</td>\n",
       "      <td>13.992168</td>\n",
       "      <td>56.464275</td>\n",
       "      <td>14.025700</td>\n",
       "    </tr>\n",
       "    <tr>\n",
       "      <th>54</th>\n",
       "      <td>99.0</td>\n",
       "      <td>56.440010</td>\n",
       "      <td>13.992728</td>\n",
       "      <td>56.464756</td>\n",
       "      <td>13.998003</td>\n",
       "    </tr>\n",
       "    <tr>\n",
       "      <th>57</th>\n",
       "      <td>121.0</td>\n",
       "      <td>56.439457</td>\n",
       "      <td>13.992411</td>\n",
       "      <td>56.491245</td>\n",
       "      <td>14.016651</td>\n",
       "    </tr>\n",
       "    <tr>\n",
       "      <th>59</th>\n",
       "      <td>99.0</td>\n",
       "      <td>56.440010</td>\n",
       "      <td>13.992560</td>\n",
       "      <td>56.319511</td>\n",
       "      <td>13.978155</td>\n",
       "    </tr>\n",
       "    <tr>\n",
       "      <th>72</th>\n",
       "      <td>23.0</td>\n",
       "      <td>56.440086</td>\n",
       "      <td>13.992273</td>\n",
       "      <td>56.464478</td>\n",
       "      <td>13.987558</td>\n",
       "    </tr>\n",
       "    <tr>\n",
       "      <th>88</th>\n",
       "      <td>12.0</td>\n",
       "      <td>56.439941</td>\n",
       "      <td>13.992248</td>\n",
       "      <td>56.495960</td>\n",
       "      <td>14.035975</td>\n",
       "    </tr>\n",
       "    <tr>\n",
       "      <th>99</th>\n",
       "      <td>18.0</td>\n",
       "      <td>56.440105</td>\n",
       "      <td>13.992232</td>\n",
       "      <td>56.487698</td>\n",
       "      <td>14.007027</td>\n",
       "    </tr>\n",
       "    <tr>\n",
       "      <th>101</th>\n",
       "      <td>71.0</td>\n",
       "      <td>56.440216</td>\n",
       "      <td>13.992801</td>\n",
       "      <td>56.423317</td>\n",
       "      <td>13.978388</td>\n",
       "    </tr>\n",
       "    <tr>\n",
       "      <th>102</th>\n",
       "      <td>31.0</td>\n",
       "      <td>56.440006</td>\n",
       "      <td>13.992887</td>\n",
       "      <td>56.466114</td>\n",
       "      <td>13.994001</td>\n",
       "    </tr>\n",
       "    <tr>\n",
       "      <th>103</th>\n",
       "      <td>57.0</td>\n",
       "      <td>56.439808</td>\n",
       "      <td>13.992372</td>\n",
       "      <td>56.460518</td>\n",
       "      <td>13.989917</td>\n",
       "    </tr>\n",
       "    <tr>\n",
       "      <th>115</th>\n",
       "      <td>100.0</td>\n",
       "      <td>56.439846</td>\n",
       "      <td>13.992750</td>\n",
       "      <td>56.465660</td>\n",
       "      <td>13.996906</td>\n",
       "    </tr>\n",
       "    <tr>\n",
       "      <th>119</th>\n",
       "      <td>46.0</td>\n",
       "      <td>56.440243</td>\n",
       "      <td>13.992171</td>\n",
       "      <td>56.465305</td>\n",
       "      <td>13.988976</td>\n",
       "    </tr>\n",
       "    <tr>\n",
       "      <th>121</th>\n",
       "      <td>99.0</td>\n",
       "      <td>56.440048</td>\n",
       "      <td>13.992293</td>\n",
       "      <td>56.426186</td>\n",
       "      <td>13.986060</td>\n",
       "    </tr>\n",
       "    <tr>\n",
       "      <th>123</th>\n",
       "      <td>39.0</td>\n",
       "      <td>56.440041</td>\n",
       "      <td>13.992390</td>\n",
       "      <td>56.513531</td>\n",
       "      <td>13.998051</td>\n",
       "    </tr>\n",
       "    <tr>\n",
       "      <th>127</th>\n",
       "      <td>100.0</td>\n",
       "      <td>56.440010</td>\n",
       "      <td>13.992611</td>\n",
       "      <td>56.441948</td>\n",
       "      <td>13.994793</td>\n",
       "    </tr>\n",
       "    <tr>\n",
       "      <th>130</th>\n",
       "      <td>5.0</td>\n",
       "      <td>56.439896</td>\n",
       "      <td>13.992273</td>\n",
       "      <td>56.466816</td>\n",
       "      <td>13.987453</td>\n",
       "    </tr>\n",
       "    <tr>\n",
       "      <th>134</th>\n",
       "      <td>55.0</td>\n",
       "      <td>56.440018</td>\n",
       "      <td>13.992618</td>\n",
       "      <td>56.457085</td>\n",
       "      <td>13.981346</td>\n",
       "    </tr>\n",
       "    <tr>\n",
       "      <th>137</th>\n",
       "      <td>22.0</td>\n",
       "      <td>56.440041</td>\n",
       "      <td>13.992442</td>\n",
       "      <td>56.471577</td>\n",
       "      <td>13.991137</td>\n",
       "    </tr>\n",
       "    <tr>\n",
       "      <th>139</th>\n",
       "      <td>7.0</td>\n",
       "      <td>56.439503</td>\n",
       "      <td>13.992475</td>\n",
       "      <td>56.495743</td>\n",
       "      <td>13.997568</td>\n",
       "    </tr>\n",
       "    <tr>\n",
       "      <th>146</th>\n",
       "      <td>17.0</td>\n",
       "      <td>56.440063</td>\n",
       "      <td>13.992658</td>\n",
       "      <td>56.480717</td>\n",
       "      <td>13.982446</td>\n",
       "    </tr>\n",
       "    <tr>\n",
       "      <th>169</th>\n",
       "      <td>22.0</td>\n",
       "      <td>56.440117</td>\n",
       "      <td>13.991635</td>\n",
       "      <td>56.504173</td>\n",
       "      <td>14.002831</td>\n",
       "    </tr>\n",
       "    <tr>\n",
       "      <th>180</th>\n",
       "      <td>118.0</td>\n",
       "      <td>56.440098</td>\n",
       "      <td>13.992248</td>\n",
       "      <td>56.462009</td>\n",
       "      <td>14.030067</td>\n",
       "    </tr>\n",
       "    <tr>\n",
       "      <th>181</th>\n",
       "      <td>152.0</td>\n",
       "      <td>56.440220</td>\n",
       "      <td>13.992155</td>\n",
       "      <td>56.466114</td>\n",
       "      <td>14.056431</td>\n",
       "    </tr>\n",
       "    <tr>\n",
       "      <th>182</th>\n",
       "      <td>81.0</td>\n",
       "      <td>56.440155</td>\n",
       "      <td>13.992286</td>\n",
       "      <td>56.461796</td>\n",
       "      <td>13.988230</td>\n",
       "    </tr>\n",
       "    <tr>\n",
       "      <th>196</th>\n",
       "      <td>131.0</td>\n",
       "      <td>56.439926</td>\n",
       "      <td>13.991809</td>\n",
       "      <td>56.480534</td>\n",
       "      <td>14.019632</td>\n",
       "    </tr>\n",
       "    <tr>\n",
       "      <th>200</th>\n",
       "      <td>46.0</td>\n",
       "      <td>56.439968</td>\n",
       "      <td>13.992654</td>\n",
       "      <td>56.465466</td>\n",
       "      <td>13.988024</td>\n",
       "    </tr>\n",
       "    <tr>\n",
       "      <th>205</th>\n",
       "      <td>33.0</td>\n",
       "      <td>56.439945</td>\n",
       "      <td>13.991898</td>\n",
       "      <td>56.458717</td>\n",
       "      <td>13.991784</td>\n",
       "    </tr>\n",
       "    <tr>\n",
       "      <th>210</th>\n",
       "      <td>112.0</td>\n",
       "      <td>56.439323</td>\n",
       "      <td>13.993193</td>\n",
       "      <td>56.464458</td>\n",
       "      <td>14.033266</td>\n",
       "    </tr>\n",
       "    <tr>\n",
       "      <th>217</th>\n",
       "      <td>23.0</td>\n",
       "      <td>56.439400</td>\n",
       "      <td>13.992448</td>\n",
       "      <td>56.485126</td>\n",
       "      <td>13.984683</td>\n",
       "    </tr>\n",
       "    <tr>\n",
       "      <th>218</th>\n",
       "      <td>152.0</td>\n",
       "      <td>56.440342</td>\n",
       "      <td>13.992517</td>\n",
       "      <td>56.457737</td>\n",
       "      <td>14.031358</td>\n",
       "    </tr>\n",
       "    <tr>\n",
       "      <th>221</th>\n",
       "      <td>18.0</td>\n",
       "      <td>56.439781</td>\n",
       "      <td>13.992595</td>\n",
       "      <td>56.560246</td>\n",
       "      <td>13.971998</td>\n",
       "    </tr>\n",
       "    <tr>\n",
       "      <th>222</th>\n",
       "      <td>5.0</td>\n",
       "      <td>56.439747</td>\n",
       "      <td>13.992553</td>\n",
       "      <td>56.452927</td>\n",
       "      <td>13.983438</td>\n",
       "    </tr>\n",
       "    <tr>\n",
       "      <th>230</th>\n",
       "      <td>108.0</td>\n",
       "      <td>56.439739</td>\n",
       "      <td>13.992417</td>\n",
       "      <td>56.458492</td>\n",
       "      <td>13.993666</td>\n",
       "    </tr>\n",
       "    <tr>\n",
       "      <th>241</th>\n",
       "      <td>39.0</td>\n",
       "      <td>56.440105</td>\n",
       "      <td>13.992458</td>\n",
       "      <td>56.467060</td>\n",
       "      <td>13.995024</td>\n",
       "    </tr>\n",
       "    <tr>\n",
       "      <th>247</th>\n",
       "      <td>128.0</td>\n",
       "      <td>56.440105</td>\n",
       "      <td>13.992502</td>\n",
       "      <td>56.463253</td>\n",
       "      <td>14.026350</td>\n",
       "    </tr>\n",
       "    <tr>\n",
       "      <th>251</th>\n",
       "      <td>42.0</td>\n",
       "      <td>56.439693</td>\n",
       "      <td>13.992349</td>\n",
       "      <td>56.469013</td>\n",
       "      <td>13.984455</td>\n",
       "    </tr>\n",
       "    <tr>\n",
       "      <th>254</th>\n",
       "      <td>20.0</td>\n",
       "      <td>56.439980</td>\n",
       "      <td>13.991875</td>\n",
       "      <td>56.450974</td>\n",
       "      <td>13.980780</td>\n",
       "    </tr>\n",
       "  </tbody>\n",
       "</table>\n",
       "</div>"
      ],
      "text/plain": [
       "     population   latitude  longitude  Pred_latitude  Pred_longitude\n",
       "0          71.0  56.439716  13.991791      56.482265       14.004951\n",
       "3          88.0  56.441143  13.988527      56.485630       14.004173\n",
       "6         131.0  56.439716  13.992242      56.447189       14.007700\n",
       "17         27.0  56.439903  13.992476      56.476940       13.992350\n",
       "19         23.0  56.439484  13.992446      56.487740       13.992626\n",
       "31         67.0  56.439350  13.992638      56.504692       13.999569\n",
       "34         24.0  56.440166  13.992716      56.476429       13.981483\n",
       "35        131.0  56.439930  13.992993      56.448952       14.007594\n",
       "41        152.0  56.440140  13.992735      56.462879       14.049561\n",
       "42        152.0  56.440044  13.992678      56.503170       14.035130\n",
       "46         31.0  56.439293  13.992464      56.422321       13.966078\n",
       "47          6.0  56.440098  13.992357      56.476070       13.987894\n",
       "49         81.0  56.439430  13.992407      56.450302       13.983458\n",
       "50        107.0  56.440014  13.992168      56.464275       14.025700\n",
       "54         99.0  56.440010  13.992728      56.464756       13.998003\n",
       "57        121.0  56.439457  13.992411      56.491245       14.016651\n",
       "59         99.0  56.440010  13.992560      56.319511       13.978155\n",
       "72         23.0  56.440086  13.992273      56.464478       13.987558\n",
       "88         12.0  56.439941  13.992248      56.495960       14.035975\n",
       "99         18.0  56.440105  13.992232      56.487698       14.007027\n",
       "101        71.0  56.440216  13.992801      56.423317       13.978388\n",
       "102        31.0  56.440006  13.992887      56.466114       13.994001\n",
       "103        57.0  56.439808  13.992372      56.460518       13.989917\n",
       "115       100.0  56.439846  13.992750      56.465660       13.996906\n",
       "119        46.0  56.440243  13.992171      56.465305       13.988976\n",
       "121        99.0  56.440048  13.992293      56.426186       13.986060\n",
       "123        39.0  56.440041  13.992390      56.513531       13.998051\n",
       "127       100.0  56.440010  13.992611      56.441948       13.994793\n",
       "130         5.0  56.439896  13.992273      56.466816       13.987453\n",
       "134        55.0  56.440018  13.992618      56.457085       13.981346\n",
       "137        22.0  56.440041  13.992442      56.471577       13.991137\n",
       "139         7.0  56.439503  13.992475      56.495743       13.997568\n",
       "146        17.0  56.440063  13.992658      56.480717       13.982446\n",
       "169        22.0  56.440117  13.991635      56.504173       14.002831\n",
       "180       118.0  56.440098  13.992248      56.462009       14.030067\n",
       "181       152.0  56.440220  13.992155      56.466114       14.056431\n",
       "182        81.0  56.440155  13.992286      56.461796       13.988230\n",
       "196       131.0  56.439926  13.991809      56.480534       14.019632\n",
       "200        46.0  56.439968  13.992654      56.465466       13.988024\n",
       "205        33.0  56.439945  13.991898      56.458717       13.991784\n",
       "210       112.0  56.439323  13.993193      56.464458       14.033266\n",
       "217        23.0  56.439400  13.992448      56.485126       13.984683\n",
       "218       152.0  56.440342  13.992517      56.457737       14.031358\n",
       "221        18.0  56.439781  13.992595      56.560246       13.971998\n",
       "222         5.0  56.439747  13.992553      56.452927       13.983438\n",
       "230       108.0  56.439739  13.992417      56.458492       13.993666\n",
       "241        39.0  56.440105  13.992458      56.467060       13.995024\n",
       "247       128.0  56.440105  13.992502      56.463253       14.026350\n",
       "251        42.0  56.439693  13.992349      56.469013       13.984455\n",
       "254        20.0  56.439980  13.991875      56.450974       13.980780"
      ]
     },
     "execution_count": 46,
     "metadata": {},
     "output_type": "execute_result"
    }
   ],
   "source": [
    "combined_df.head(50)"
   ]
  },
  {
   "cell_type": "code",
   "execution_count": null,
   "id": "d1ea468f",
   "metadata": {},
   "outputs": [],
   "source": []
  }
 ],
 "metadata": {
  "kernelspec": {
   "display_name": "Python 3 (ipykernel)",
   "language": "python",
   "name": "python3"
  },
  "language_info": {
   "codemirror_mode": {
    "name": "ipython",
    "version": 3
   },
   "file_extension": ".py",
   "mimetype": "text/x-python",
   "name": "python",
   "nbconvert_exporter": "python",
   "pygments_lexer": "ipython3",
   "version": "3.7.10"
  }
 },
 "nbformat": 4,
 "nbformat_minor": 5
}
