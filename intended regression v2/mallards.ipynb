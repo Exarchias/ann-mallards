{
 "cells": [
  {
   "cell_type": "code",
   "execution_count": 1,
   "id": "52b3263f",
   "metadata": {},
   "outputs": [
    {
     "name": "stderr",
     "output_type": "stream",
     "text": [
      "Using TensorFlow backend.\n"
     ]
    }
   ],
   "source": [
    "import pandas as pd\n",
    "import numpy as np\n",
    "from sklearn.metrics import confusion_matrix\n",
    "from sklearn import tree\n",
    "from sklearn.model_selection import train_test_split\n",
    "from sklearn.preprocessing import StandardScaler\n",
    "from keras.models import Sequential\n",
    "from keras.layers import Dense"
   ]
  },
  {
   "cell_type": "code",
   "execution_count": 2,
   "id": "8ef21823",
   "metadata": {},
   "outputs": [
    {
     "name": "stdout",
     "output_type": "stream",
     "text": [
      "       population  farmed       date       hour  slatitude  slongitude\n",
      "19910         111       0 2012-10-03   18:46:46  56.440178   13.992034\n",
      "19911         111       0 2012-10-03   19:46:42  56.439957   13.992407\n",
      "19912         111       0 2012-10-03   20:47:04  56.440022   13.992071\n",
      "19913         111       0 2012-10-03   21:49:33  56.440029   13.992332\n",
      "19914         111       0 2012-10-03   22:48:59  56.440067   13.993050\n"
     ]
    }
   ],
   "source": [
    "mallards=pd.read_excel(\"Mallards_initial data.xlsx\")\n",
    "mallards = mallards.loc[:, ~mallards.columns.str.contains('^Unnamed')]\n",
    "print(mallards.tail(5))"
   ]
  },
  {
   "cell_type": "code",
   "execution_count": 3,
   "id": "b4174874",
   "metadata": {},
   "outputs": [],
   "source": [
    "ordered = mallards.sort_values(by=[\"population\"]).reset_index(drop=True)"
   ]
  },
  {
   "cell_type": "code",
   "execution_count": 4,
   "id": "8d975cf2",
   "metadata": {},
   "outputs": [
    {
     "data": {
      "text/html": [
       "<div>\n",
       "<style scoped>\n",
       "    .dataframe tbody tr th:only-of-type {\n",
       "        vertical-align: middle;\n",
       "    }\n",
       "\n",
       "    .dataframe tbody tr th {\n",
       "        vertical-align: top;\n",
       "    }\n",
       "\n",
       "    .dataframe thead th {\n",
       "        text-align: right;\n",
       "    }\n",
       "</style>\n",
       "<table border=\"1\" class=\"dataframe\">\n",
       "  <thead>\n",
       "    <tr style=\"text-align: right;\">\n",
       "      <th></th>\n",
       "      <th>population</th>\n",
       "      <th>farmed</th>\n",
       "      <th>date</th>\n",
       "      <th>hour</th>\n",
       "      <th>slatitude</th>\n",
       "      <th>slongitude</th>\n",
       "    </tr>\n",
       "  </thead>\n",
       "  <tbody>\n",
       "    <tr>\n",
       "      <th>19905</th>\n",
       "      <td>153</td>\n",
       "      <td>1</td>\n",
       "      <td>2012-10-19</td>\n",
       "      <td>04:39:28</td>\n",
       "      <td>56.500893</td>\n",
       "      <td>13.970902</td>\n",
       "    </tr>\n",
       "    <tr>\n",
       "      <th>19906</th>\n",
       "      <td>153</td>\n",
       "      <td>1</td>\n",
       "      <td>2012-10-19</td>\n",
       "      <td>05:39:21</td>\n",
       "      <td>56.500786</td>\n",
       "      <td>13.970841</td>\n",
       "    </tr>\n",
       "    <tr>\n",
       "      <th>19907</th>\n",
       "      <td>153</td>\n",
       "      <td>1</td>\n",
       "      <td>2012-10-19</td>\n",
       "      <td>06:38:23</td>\n",
       "      <td>56.500889</td>\n",
       "      <td>13.971055</td>\n",
       "    </tr>\n",
       "    <tr>\n",
       "      <th>19908</th>\n",
       "      <td>153</td>\n",
       "      <td>1</td>\n",
       "      <td>2012-10-19</td>\n",
       "      <td>07:38:58</td>\n",
       "      <td>56.487541</td>\n",
       "      <td>13.965097</td>\n",
       "    </tr>\n",
       "    <tr>\n",
       "      <th>19909</th>\n",
       "      <td>153</td>\n",
       "      <td>1</td>\n",
       "      <td>2012-10-19</td>\n",
       "      <td>08:39:03</td>\n",
       "      <td>56.487274</td>\n",
       "      <td>13.965044</td>\n",
       "    </tr>\n",
       "    <tr>\n",
       "      <th>19910</th>\n",
       "      <td>153</td>\n",
       "      <td>1</td>\n",
       "      <td>2012-10-19</td>\n",
       "      <td>09:39:15</td>\n",
       "      <td>56.487392</td>\n",
       "      <td>13.965101</td>\n",
       "    </tr>\n",
       "    <tr>\n",
       "      <th>19911</th>\n",
       "      <td>153</td>\n",
       "      <td>1</td>\n",
       "      <td>2012-10-19</td>\n",
       "      <td>10:38:33</td>\n",
       "      <td>56.487503</td>\n",
       "      <td>13.965265</td>\n",
       "    </tr>\n",
       "    <tr>\n",
       "      <th>19912</th>\n",
       "      <td>153</td>\n",
       "      <td>1</td>\n",
       "      <td>2012-10-19</td>\n",
       "      <td>11:38:27</td>\n",
       "      <td>56.487041</td>\n",
       "      <td>13.965001</td>\n",
       "    </tr>\n",
       "    <tr>\n",
       "      <th>19913</th>\n",
       "      <td>153</td>\n",
       "      <td>1</td>\n",
       "      <td>2012-10-18</td>\n",
       "      <td>07:41:34</td>\n",
       "      <td>56.487537</td>\n",
       "      <td>13.965165</td>\n",
       "    </tr>\n",
       "    <tr>\n",
       "      <th>19914</th>\n",
       "      <td>153</td>\n",
       "      <td>1</td>\n",
       "      <td>2012-10-08</td>\n",
       "      <td>07:59:45</td>\n",
       "      <td>56.432728</td>\n",
       "      <td>13.989956</td>\n",
       "    </tr>\n",
       "  </tbody>\n",
       "</table>\n",
       "</div>"
      ],
      "text/plain": [
       "       population  farmed       date       hour  slatitude  slongitude\n",
       "19905         153       1 2012-10-19   04:39:28  56.500893   13.970902\n",
       "19906         153       1 2012-10-19   05:39:21  56.500786   13.970841\n",
       "19907         153       1 2012-10-19   06:38:23  56.500889   13.971055\n",
       "19908         153       1 2012-10-19   07:38:58  56.487541   13.965097\n",
       "19909         153       1 2012-10-19   08:39:03  56.487274   13.965044\n",
       "19910         153       1 2012-10-19   09:39:15  56.487392   13.965101\n",
       "19911         153       1 2012-10-19   10:38:33  56.487503   13.965265\n",
       "19912         153       1 2012-10-19   11:38:27  56.487041   13.965001\n",
       "19913         153       1 2012-10-18   07:41:34  56.487537   13.965165\n",
       "19914         153       1 2012-10-08   07:59:45  56.432728   13.989956"
      ]
     },
     "execution_count": 4,
     "metadata": {},
     "output_type": "execute_result"
    }
   ],
   "source": [
    "ordered.tail(10)"
   ]
  },
  {
   "cell_type": "code",
   "execution_count": 5,
   "id": "6968a146",
   "metadata": {},
   "outputs": [],
   "source": [
    "ordered.to_excel(\"mallards_ordered.xlsx\", index=False)"
   ]
  },
  {
   "cell_type": "code",
   "execution_count": 6,
   "id": "292f916e",
   "metadata": {},
   "outputs": [],
   "source": [
    "labelled = pd.DataFrame(columns=[\"dlatitude\", \"dlongitude\"])\n",
    "\n",
    "for i, row in ordered.iterrows():\n",
    "    if i == ordered.index[-1]:\n",
    "        break\n",
    "    if row[\"population\"] != ordered.iloc[i+1][\"population\"]:\n",
    "        label_row = pd.DataFrame({\"dlatitude\": row[\"slatitude\"], \"dlongitude\": row[\"slongitude\"]}, index=[i])\n",
    "    else:\n",
    "        label_row = pd.DataFrame({\"dlatitude\": ordered.iloc[i+1][\"slatitude\"], \"dlongitude\": ordered.iloc[i+1][\"slongitude\"]}, index=[i])\n",
    "    labelled = pd.concat([labelled, label_row])\n"
   ]
  },
  {
   "cell_type": "code",
   "execution_count": 7,
   "id": "9ef11735",
   "metadata": {},
   "outputs": [],
   "source": [
    "labelled.to_excel(\"mallards_labels.xlsx\", index=False)"
   ]
  },
  {
   "cell_type": "code",
   "execution_count": 8,
   "id": "363e01b3",
   "metadata": {},
   "outputs": [
    {
     "data": {
      "text/html": [
       "<div>\n",
       "<style scoped>\n",
       "    .dataframe tbody tr th:only-of-type {\n",
       "        vertical-align: middle;\n",
       "    }\n",
       "\n",
       "    .dataframe tbody tr th {\n",
       "        vertical-align: top;\n",
       "    }\n",
       "\n",
       "    .dataframe thead th {\n",
       "        text-align: right;\n",
       "    }\n",
       "</style>\n",
       "<table border=\"1\" class=\"dataframe\">\n",
       "  <thead>\n",
       "    <tr style=\"text-align: right;\">\n",
       "      <th></th>\n",
       "      <th>dlatitude</th>\n",
       "      <th>dlongitude</th>\n",
       "    </tr>\n",
       "  </thead>\n",
       "  <tbody>\n",
       "    <tr>\n",
       "      <th>0</th>\n",
       "      <td>56.439716</td>\n",
       "      <td>13.991791</td>\n",
       "    </tr>\n",
       "    <tr>\n",
       "      <th>1</th>\n",
       "      <td>56.440170</td>\n",
       "      <td>13.992670</td>\n",
       "    </tr>\n",
       "    <tr>\n",
       "      <th>2</th>\n",
       "      <td>56.440136</td>\n",
       "      <td>13.992191</td>\n",
       "    </tr>\n",
       "    <tr>\n",
       "      <th>3</th>\n",
       "      <td>56.441143</td>\n",
       "      <td>13.988527</td>\n",
       "    </tr>\n",
       "    <tr>\n",
       "      <th>4</th>\n",
       "      <td>56.439919</td>\n",
       "      <td>13.991972</td>\n",
       "    </tr>\n",
       "    <tr>\n",
       "      <th>5</th>\n",
       "      <td>56.439869</td>\n",
       "      <td>13.992161</td>\n",
       "    </tr>\n",
       "    <tr>\n",
       "      <th>6</th>\n",
       "      <td>56.439716</td>\n",
       "      <td>13.992242</td>\n",
       "    </tr>\n",
       "    <tr>\n",
       "      <th>7</th>\n",
       "      <td>56.439934</td>\n",
       "      <td>13.991963</td>\n",
       "    </tr>\n",
       "    <tr>\n",
       "      <th>8</th>\n",
       "      <td>56.439888</td>\n",
       "      <td>13.992043</td>\n",
       "    </tr>\n",
       "    <tr>\n",
       "      <th>9</th>\n",
       "      <td>56.440109</td>\n",
       "      <td>13.991787</td>\n",
       "    </tr>\n",
       "  </tbody>\n",
       "</table>\n",
       "</div>"
      ],
      "text/plain": [
       "   dlatitude  dlongitude\n",
       "0  56.439716   13.991791\n",
       "1  56.440170   13.992670\n",
       "2  56.440136   13.992191\n",
       "3  56.441143   13.988527\n",
       "4  56.439919   13.991972\n",
       "5  56.439869   13.992161\n",
       "6  56.439716   13.992242\n",
       "7  56.439934   13.991963\n",
       "8  56.439888   13.992043\n",
       "9  56.440109   13.991787"
      ]
     },
     "execution_count": 8,
     "metadata": {},
     "output_type": "execute_result"
    }
   ],
   "source": [
    "labelled.head(10)"
   ]
  },
  {
   "cell_type": "code",
   "execution_count": 9,
   "id": "e0a22988",
   "metadata": {},
   "outputs": [],
   "source": [
    "# drop last two rows from ordered dataframe\n",
    "ordered = ordered.iloc[:-2].reset_index(drop=True)\n",
    "\n",
    "# drop last row from labelled dataframe\n",
    "labelled = labelled.iloc[:-1].reset_index(drop=True)"
   ]
  },
  {
   "cell_type": "code",
   "execution_count": 10,
   "id": "d805752f",
   "metadata": {},
   "outputs": [
    {
     "name": "stdout",
     "output_type": "stream",
     "text": [
      "(19912, 6)\n"
     ]
    }
   ],
   "source": [
    "print(ordered.iloc[:-1].shape)"
   ]
  },
  {
   "cell_type": "code",
   "execution_count": 11,
   "id": "d6896518",
   "metadata": {},
   "outputs": [
    {
     "name": "stdout",
     "output_type": "stream",
     "text": [
      "(19912,)\n"
     ]
    }
   ],
   "source": [
    "print(labelled[\"dlatitude\"].iloc[:-1].shape)"
   ]
  },
  {
   "cell_type": "code",
   "execution_count": null,
   "id": "19eda7f1",
   "metadata": {},
   "outputs": [],
   "source": []
  },
  {
   "cell_type": "code",
   "execution_count": 12,
   "id": "61228875",
   "metadata": {},
   "outputs": [],
   "source": [
    "X_train, X_test, y_lat_train, y_lat_test = train_test_split(\n",
    "    ordered.iloc[:-1], labelled[\"dlatitude\"].iloc[:-1], test_size=0.2, random_state=42\n",
    ")\n",
    "X_train, X_test, y_long_train, y_long_test = train_test_split(\n",
    "    ordered.iloc[:-1], labelled[\"dlongitude\"].iloc[:-1], test_size=0.2, random_state=42\n",
    ")"
   ]
  },
  {
   "cell_type": "code",
   "execution_count": 13,
   "id": "06f8424f",
   "metadata": {},
   "outputs": [
    {
     "data": {
      "text/plain": [
       "(15929, 6)"
      ]
     },
     "execution_count": 13,
     "metadata": {},
     "output_type": "execute_result"
    }
   ],
   "source": [
    "X_train.shape"
   ]
  },
  {
   "cell_type": "code",
   "execution_count": 14,
   "id": "2aa59021",
   "metadata": {},
   "outputs": [],
   "source": [
    "scaler = StandardScaler()"
   ]
  },
  {
   "cell_type": "code",
   "execution_count": 15,
   "id": "c4d18a4d",
   "metadata": {},
   "outputs": [],
   "source": [
    "X_train_no_date = X_train.drop(['date', 'hour'], axis=1)\n",
    "X_train_scaled = scaler.fit_transform(X_train_no_date)\n",
    "X_train_scaled_df = pd.DataFrame(X_train_scaled, columns=X_train_no_date.columns, index=X_train_no_date.index)\n",
    "X_train_scaled_df[['date', 'hour']] = X_train[['date', 'hour']]"
   ]
  },
  {
   "cell_type": "code",
   "execution_count": 16,
   "id": "2d648092",
   "metadata": {},
   "outputs": [],
   "source": [
    "X_test_no_date = X_test.drop(['date', 'hour'], axis=1)\n",
    "X_test_scaled = scaler.transform(X_test_no_date)\n",
    "X_test_scaled_df = pd.DataFrame(X_test_scaled, columns=X_test_no_date.columns, index=X_test_no_date.index)\n",
    "X_test_scaled_df[['date', 'hour']] = X_test[['date', 'hour']]"
   ]
  },
  {
   "cell_type": "code",
   "execution_count": 17,
   "id": "fffd66ba",
   "metadata": {},
   "outputs": [
    {
     "data": {
      "text/html": [
       "<div>\n",
       "<style scoped>\n",
       "    .dataframe tbody tr th:only-of-type {\n",
       "        vertical-align: middle;\n",
       "    }\n",
       "\n",
       "    .dataframe tbody tr th {\n",
       "        vertical-align: top;\n",
       "    }\n",
       "\n",
       "    .dataframe thead th {\n",
       "        text-align: right;\n",
       "    }\n",
       "</style>\n",
       "<table border=\"1\" class=\"dataframe\">\n",
       "  <thead>\n",
       "    <tr style=\"text-align: right;\">\n",
       "      <th></th>\n",
       "      <th>population</th>\n",
       "      <th>farmed</th>\n",
       "      <th>slatitude</th>\n",
       "      <th>slongitude</th>\n",
       "      <th>date</th>\n",
       "      <th>hour</th>\n",
       "    </tr>\n",
       "  </thead>\n",
       "  <tbody>\n",
       "    <tr>\n",
       "      <th>11284</th>\n",
       "      <td>0.030042</td>\n",
       "      <td>-0.524242</td>\n",
       "      <td>0.125260</td>\n",
       "      <td>0.133639</td>\n",
       "      <td>2012-09-29</td>\n",
       "      <td>21:56:30</td>\n",
       "    </tr>\n",
       "    <tr>\n",
       "      <th>11964</th>\n",
       "      <td>0.138355</td>\n",
       "      <td>-0.524242</td>\n",
       "      <td>0.127363</td>\n",
       "      <td>0.126657</td>\n",
       "      <td>2012-09-17</td>\n",
       "      <td>19:10:28</td>\n",
       "    </tr>\n",
       "    <tr>\n",
       "      <th>5390</th>\n",
       "      <td>-0.879784</td>\n",
       "      <td>-0.524242</td>\n",
       "      <td>0.125449</td>\n",
       "      <td>0.134608</td>\n",
       "      <td>2012-08-24</td>\n",
       "      <td>15:45:24</td>\n",
       "    </tr>\n",
       "    <tr>\n",
       "      <th>860</th>\n",
       "      <td>-1.356359</td>\n",
       "      <td>-0.524242</td>\n",
       "      <td>0.124414</td>\n",
       "      <td>0.135708</td>\n",
       "      <td>2012-09-05</td>\n",
       "      <td>18:01:35</td>\n",
       "    </tr>\n",
       "    <tr>\n",
       "      <th>15795</th>\n",
       "      <td>0.939869</td>\n",
       "      <td>-0.524242</td>\n",
       "      <td>0.125983</td>\n",
       "      <td>0.133088</td>\n",
       "      <td>2012-09-24</td>\n",
       "      <td>03:42:26</td>\n",
       "    </tr>\n",
       "  </tbody>\n",
       "</table>\n",
       "</div>"
      ],
      "text/plain": [
       "       population    farmed  slatitude  slongitude       date       hour\n",
       "11284    0.030042 -0.524242   0.125260    0.133639 2012-09-29   21:56:30\n",
       "11964    0.138355 -0.524242   0.127363    0.126657 2012-09-17   19:10:28\n",
       "5390    -0.879784 -0.524242   0.125449    0.134608 2012-08-24   15:45:24\n",
       "860     -1.356359 -0.524242   0.124414    0.135708 2012-09-05   18:01:35\n",
       "15795    0.939869 -0.524242   0.125983    0.133088 2012-09-24   03:42:26"
      ]
     },
     "execution_count": 17,
     "metadata": {},
     "output_type": "execute_result"
    }
   ],
   "source": [
    "X_train_scaled_df.tail(5)"
   ]
  },
  {
   "cell_type": "code",
   "execution_count": 18,
   "id": "9b8ac7cb",
   "metadata": {},
   "outputs": [
    {
     "data": {
      "text/html": [
       "<div>\n",
       "<style scoped>\n",
       "    .dataframe tbody tr th:only-of-type {\n",
       "        vertical-align: middle;\n",
       "    }\n",
       "\n",
       "    .dataframe tbody tr th {\n",
       "        vertical-align: top;\n",
       "    }\n",
       "\n",
       "    .dataframe thead th {\n",
       "        text-align: right;\n",
       "    }\n",
       "</style>\n",
       "<table border=\"1\" class=\"dataframe\">\n",
       "  <thead>\n",
       "    <tr style=\"text-align: right;\">\n",
       "      <th></th>\n",
       "      <th>population</th>\n",
       "      <th>farmed</th>\n",
       "      <th>slatitude</th>\n",
       "      <th>slongitude</th>\n",
       "      <th>date</th>\n",
       "      <th>hour</th>\n",
       "    </tr>\n",
       "  </thead>\n",
       "  <tbody>\n",
       "    <tr>\n",
       "      <th>16564</th>\n",
       "      <td>1.113169</td>\n",
       "      <td>1.907515</td>\n",
       "      <td>0.123946</td>\n",
       "      <td>0.131636</td>\n",
       "      <td>2012-09-21</td>\n",
       "      <td>21:31:36</td>\n",
       "    </tr>\n",
       "    <tr>\n",
       "      <th>19327</th>\n",
       "      <td>1.849695</td>\n",
       "      <td>1.907515</td>\n",
       "      <td>-4.781471</td>\n",
       "      <td>-1.732344</td>\n",
       "      <td>2012-11-05</td>\n",
       "      <td>10:14:11</td>\n",
       "    </tr>\n",
       "    <tr>\n",
       "      <th>15022</th>\n",
       "      <td>0.874881</td>\n",
       "      <td>-0.524242</td>\n",
       "      <td>0.126517</td>\n",
       "      <td>0.128668</td>\n",
       "      <td>2012-09-20</td>\n",
       "      <td>00:13:39</td>\n",
       "    </tr>\n",
       "    <tr>\n",
       "      <th>2457</th>\n",
       "      <td>-1.139734</td>\n",
       "      <td>-0.524242</td>\n",
       "      <td>0.124135</td>\n",
       "      <td>0.135700</td>\n",
       "      <td>2012-09-11</td>\n",
       "      <td>05:41:52</td>\n",
       "    </tr>\n",
       "    <tr>\n",
       "      <th>9210</th>\n",
       "      <td>-0.229908</td>\n",
       "      <td>-0.524242</td>\n",
       "      <td>0.121909</td>\n",
       "      <td>0.135181</td>\n",
       "      <td>2012-09-08</td>\n",
       "      <td>17:41:04</td>\n",
       "    </tr>\n",
       "  </tbody>\n",
       "</table>\n",
       "</div>"
      ],
      "text/plain": [
       "       population    farmed  slatitude  slongitude       date       hour\n",
       "16564    1.113169  1.907515   0.123946    0.131636 2012-09-21   21:31:36\n",
       "19327    1.849695  1.907515  -4.781471   -1.732344 2012-11-05   10:14:11\n",
       "15022    0.874881 -0.524242   0.126517    0.128668 2012-09-20   00:13:39\n",
       "2457    -1.139734 -0.524242   0.124135    0.135700 2012-09-11   05:41:52\n",
       "9210    -0.229908 -0.524242   0.121909    0.135181 2012-09-08   17:41:04"
      ]
     },
     "execution_count": 18,
     "metadata": {},
     "output_type": "execute_result"
    }
   ],
   "source": [
    "X_test_scaled_df.tail(5)"
   ]
  },
  {
   "cell_type": "code",
   "execution_count": null,
   "id": "5793c78e",
   "metadata": {},
   "outputs": [],
   "source": []
  }
 ],
 "metadata": {
  "kernelspec": {
   "display_name": "Python 3 (ipykernel)",
   "language": "python",
   "name": "python3"
  },
  "language_info": {
   "codemirror_mode": {
    "name": "ipython",
    "version": 3
   },
   "file_extension": ".py",
   "mimetype": "text/x-python",
   "name": "python",
   "nbconvert_exporter": "python",
   "pygments_lexer": "ipython3",
   "version": "3.7.10"
  }
 },
 "nbformat": 4,
 "nbformat_minor": 5
}
