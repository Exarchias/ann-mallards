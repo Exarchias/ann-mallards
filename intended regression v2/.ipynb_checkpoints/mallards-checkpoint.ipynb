{
 "cells": [
  {
   "cell_type": "code",
   "execution_count": 1,
   "id": "52b3263f",
   "metadata": {},
   "outputs": [],
   "source": [
    "import pandas as pd\n",
    "import numpy as np\n",
    "from sklearn.metrics import confusion_matrix\n",
    "from sklearn import tree\n",
    "from sklearn.model_selection import train_test_split\n",
    "from sklearn.preprocessing import StandardScaler\n",
    "import tensorflow as tf\n",
    "from keras.models import Sequential\n",
    "from keras.layers import Dense\n",
    "from sklearn.metrics import mean_absolute_error, mean_squared_error\n",
    "import matplotlib.pyplot as plt"
   ]
  },
  {
   "cell_type": "code",
   "execution_count": 2,
   "id": "8ef21823",
   "metadata": {},
   "outputs": [
    {
     "name": "stdout",
     "output_type": "stream",
     "text": [
      "       population  farmed       date       hour  slatitude  slongitude\n",
      "19910         111       0 2012-10-03   18:46:46  56.440178   13.992034\n",
      "19911         111       0 2012-10-03   19:46:42  56.439957   13.992407\n",
      "19912         111       0 2012-10-03   20:47:04  56.440022   13.992071\n",
      "19913         111       0 2012-10-03   21:49:33  56.440029   13.992332\n",
      "19914         111       0 2012-10-03   22:48:59  56.440067   13.993050\n"
     ]
    }
   ],
   "source": [
    "mallards=pd.read_excel(\"Mallards_initial data.xlsx\")\n",
    "mallards = mallards.loc[:, ~mallards.columns.str.contains('^Unnamed')]\n",
    "print(mallards.tail(5))"
   ]
  },
  {
   "cell_type": "code",
   "execution_count": 3,
   "id": "b4174874",
   "metadata": {},
   "outputs": [],
   "source": [
    "ordered = mallards.sort_values(by=[\"population\"]).reset_index(drop=True)"
   ]
  },
  {
   "cell_type": "code",
   "execution_count": 4,
   "id": "8d975cf2",
   "metadata": {},
   "outputs": [
    {
     "data": {
      "text/html": [
       "<div>\n",
       "<style scoped>\n",
       "    .dataframe tbody tr th:only-of-type {\n",
       "        vertical-align: middle;\n",
       "    }\n",
       "\n",
       "    .dataframe tbody tr th {\n",
       "        vertical-align: top;\n",
       "    }\n",
       "\n",
       "    .dataframe thead th {\n",
       "        text-align: right;\n",
       "    }\n",
       "</style>\n",
       "<table border=\"1\" class=\"dataframe\">\n",
       "  <thead>\n",
       "    <tr style=\"text-align: right;\">\n",
       "      <th></th>\n",
       "      <th>population</th>\n",
       "      <th>farmed</th>\n",
       "      <th>date</th>\n",
       "      <th>hour</th>\n",
       "      <th>slatitude</th>\n",
       "      <th>slongitude</th>\n",
       "    </tr>\n",
       "  </thead>\n",
       "  <tbody>\n",
       "    <tr>\n",
       "      <th>19905</th>\n",
       "      <td>153</td>\n",
       "      <td>1</td>\n",
       "      <td>2012-10-19</td>\n",
       "      <td>04:39:28</td>\n",
       "      <td>56.500893</td>\n",
       "      <td>13.970902</td>\n",
       "    </tr>\n",
       "    <tr>\n",
       "      <th>19906</th>\n",
       "      <td>153</td>\n",
       "      <td>1</td>\n",
       "      <td>2012-10-19</td>\n",
       "      <td>05:39:21</td>\n",
       "      <td>56.500786</td>\n",
       "      <td>13.970841</td>\n",
       "    </tr>\n",
       "    <tr>\n",
       "      <th>19907</th>\n",
       "      <td>153</td>\n",
       "      <td>1</td>\n",
       "      <td>2012-10-19</td>\n",
       "      <td>06:38:23</td>\n",
       "      <td>56.500889</td>\n",
       "      <td>13.971055</td>\n",
       "    </tr>\n",
       "    <tr>\n",
       "      <th>19908</th>\n",
       "      <td>153</td>\n",
       "      <td>1</td>\n",
       "      <td>2012-10-19</td>\n",
       "      <td>07:38:58</td>\n",
       "      <td>56.487541</td>\n",
       "      <td>13.965097</td>\n",
       "    </tr>\n",
       "    <tr>\n",
       "      <th>19909</th>\n",
       "      <td>153</td>\n",
       "      <td>1</td>\n",
       "      <td>2012-10-19</td>\n",
       "      <td>08:39:03</td>\n",
       "      <td>56.487274</td>\n",
       "      <td>13.965044</td>\n",
       "    </tr>\n",
       "    <tr>\n",
       "      <th>19910</th>\n",
       "      <td>153</td>\n",
       "      <td>1</td>\n",
       "      <td>2012-10-19</td>\n",
       "      <td>09:39:15</td>\n",
       "      <td>56.487392</td>\n",
       "      <td>13.965101</td>\n",
       "    </tr>\n",
       "    <tr>\n",
       "      <th>19911</th>\n",
       "      <td>153</td>\n",
       "      <td>1</td>\n",
       "      <td>2012-10-19</td>\n",
       "      <td>10:38:33</td>\n",
       "      <td>56.487503</td>\n",
       "      <td>13.965265</td>\n",
       "    </tr>\n",
       "    <tr>\n",
       "      <th>19912</th>\n",
       "      <td>153</td>\n",
       "      <td>1</td>\n",
       "      <td>2012-10-19</td>\n",
       "      <td>11:38:27</td>\n",
       "      <td>56.487041</td>\n",
       "      <td>13.965001</td>\n",
       "    </tr>\n",
       "    <tr>\n",
       "      <th>19913</th>\n",
       "      <td>153</td>\n",
       "      <td>1</td>\n",
       "      <td>2012-10-18</td>\n",
       "      <td>07:41:34</td>\n",
       "      <td>56.487537</td>\n",
       "      <td>13.965165</td>\n",
       "    </tr>\n",
       "    <tr>\n",
       "      <th>19914</th>\n",
       "      <td>153</td>\n",
       "      <td>1</td>\n",
       "      <td>2012-10-08</td>\n",
       "      <td>07:59:45</td>\n",
       "      <td>56.432728</td>\n",
       "      <td>13.989956</td>\n",
       "    </tr>\n",
       "  </tbody>\n",
       "</table>\n",
       "</div>"
      ],
      "text/plain": [
       "       population  farmed       date       hour  slatitude  slongitude\n",
       "19905         153       1 2012-10-19   04:39:28  56.500893   13.970902\n",
       "19906         153       1 2012-10-19   05:39:21  56.500786   13.970841\n",
       "19907         153       1 2012-10-19   06:38:23  56.500889   13.971055\n",
       "19908         153       1 2012-10-19   07:38:58  56.487541   13.965097\n",
       "19909         153       1 2012-10-19   08:39:03  56.487274   13.965044\n",
       "19910         153       1 2012-10-19   09:39:15  56.487392   13.965101\n",
       "19911         153       1 2012-10-19   10:38:33  56.487503   13.965265\n",
       "19912         153       1 2012-10-19   11:38:27  56.487041   13.965001\n",
       "19913         153       1 2012-10-18   07:41:34  56.487537   13.965165\n",
       "19914         153       1 2012-10-08   07:59:45  56.432728   13.989956"
      ]
     },
     "execution_count": 4,
     "metadata": {},
     "output_type": "execute_result"
    }
   ],
   "source": [
    "ordered.tail(10)"
   ]
  },
  {
   "cell_type": "code",
   "execution_count": 5,
   "id": "6968a146",
   "metadata": {},
   "outputs": [],
   "source": [
    "ordered.to_excel(\"mallards_ordered.xlsx\", index=False)"
   ]
  },
  {
   "cell_type": "code",
   "execution_count": 6,
   "id": "292f916e",
   "metadata": {},
   "outputs": [],
   "source": [
    "labelled = pd.DataFrame(columns=[\"dlatitude\", \"dlongitude\"])\n",
    "\n",
    "for i, row in ordered.iterrows():\n",
    "    if i == ordered.index[-1]:\n",
    "        break\n",
    "    if row[\"population\"] != ordered.iloc[i+1][\"population\"]:\n",
    "        label_row = pd.DataFrame({\"dlatitude\": row[\"slatitude\"], \"dlongitude\": row[\"slongitude\"]}, index=[i])\n",
    "    else:\n",
    "        label_row = pd.DataFrame({\"dlatitude\": ordered.iloc[i+1][\"slatitude\"], \"dlongitude\": ordered.iloc[i+1][\"slongitude\"]}, index=[i])\n",
    "    labelled = pd.concat([labelled, label_row])\n"
   ]
  },
  {
   "cell_type": "code",
   "execution_count": 7,
   "id": "9ef11735",
   "metadata": {},
   "outputs": [],
   "source": [
    "labelled.to_excel(\"mallards_labels.xlsx\", index=False)"
   ]
  },
  {
   "cell_type": "code",
   "execution_count": 8,
   "id": "363e01b3",
   "metadata": {},
   "outputs": [
    {
     "data": {
      "text/html": [
       "<div>\n",
       "<style scoped>\n",
       "    .dataframe tbody tr th:only-of-type {\n",
       "        vertical-align: middle;\n",
       "    }\n",
       "\n",
       "    .dataframe tbody tr th {\n",
       "        vertical-align: top;\n",
       "    }\n",
       "\n",
       "    .dataframe thead th {\n",
       "        text-align: right;\n",
       "    }\n",
       "</style>\n",
       "<table border=\"1\" class=\"dataframe\">\n",
       "  <thead>\n",
       "    <tr style=\"text-align: right;\">\n",
       "      <th></th>\n",
       "      <th>dlatitude</th>\n",
       "      <th>dlongitude</th>\n",
       "    </tr>\n",
       "  </thead>\n",
       "  <tbody>\n",
       "    <tr>\n",
       "      <th>0</th>\n",
       "      <td>56.439716</td>\n",
       "      <td>13.991791</td>\n",
       "    </tr>\n",
       "    <tr>\n",
       "      <th>1</th>\n",
       "      <td>56.440170</td>\n",
       "      <td>13.992670</td>\n",
       "    </tr>\n",
       "    <tr>\n",
       "      <th>2</th>\n",
       "      <td>56.440136</td>\n",
       "      <td>13.992191</td>\n",
       "    </tr>\n",
       "    <tr>\n",
       "      <th>3</th>\n",
       "      <td>56.441143</td>\n",
       "      <td>13.988527</td>\n",
       "    </tr>\n",
       "    <tr>\n",
       "      <th>4</th>\n",
       "      <td>56.439919</td>\n",
       "      <td>13.991972</td>\n",
       "    </tr>\n",
       "    <tr>\n",
       "      <th>5</th>\n",
       "      <td>56.439869</td>\n",
       "      <td>13.992161</td>\n",
       "    </tr>\n",
       "    <tr>\n",
       "      <th>6</th>\n",
       "      <td>56.439716</td>\n",
       "      <td>13.992242</td>\n",
       "    </tr>\n",
       "    <tr>\n",
       "      <th>7</th>\n",
       "      <td>56.439934</td>\n",
       "      <td>13.991963</td>\n",
       "    </tr>\n",
       "    <tr>\n",
       "      <th>8</th>\n",
       "      <td>56.439888</td>\n",
       "      <td>13.992043</td>\n",
       "    </tr>\n",
       "    <tr>\n",
       "      <th>9</th>\n",
       "      <td>56.440109</td>\n",
       "      <td>13.991787</td>\n",
       "    </tr>\n",
       "  </tbody>\n",
       "</table>\n",
       "</div>"
      ],
      "text/plain": [
       "   dlatitude  dlongitude\n",
       "0  56.439716   13.991791\n",
       "1  56.440170   13.992670\n",
       "2  56.440136   13.992191\n",
       "3  56.441143   13.988527\n",
       "4  56.439919   13.991972\n",
       "5  56.439869   13.992161\n",
       "6  56.439716   13.992242\n",
       "7  56.439934   13.991963\n",
       "8  56.439888   13.992043\n",
       "9  56.440109   13.991787"
      ]
     },
     "execution_count": 8,
     "metadata": {},
     "output_type": "execute_result"
    }
   ],
   "source": [
    "labelled.head(10)"
   ]
  },
  {
   "cell_type": "code",
   "execution_count": 9,
   "id": "e0a22988",
   "metadata": {},
   "outputs": [],
   "source": [
    "# drop last two rows from ordered dataframe\n",
    "ordered = ordered.iloc[:-2].reset_index(drop=True)\n",
    "\n",
    "# drop last row from labelled dataframe\n",
    "labelled = labelled.iloc[:-1].reset_index(drop=True)"
   ]
  },
  {
   "cell_type": "code",
   "execution_count": 10,
   "id": "d805752f",
   "metadata": {},
   "outputs": [
    {
     "name": "stdout",
     "output_type": "stream",
     "text": [
      "(19912, 6)\n"
     ]
    }
   ],
   "source": [
    "print(ordered.iloc[:-1].shape)"
   ]
  },
  {
   "cell_type": "code",
   "execution_count": 11,
   "id": "d6896518",
   "metadata": {},
   "outputs": [
    {
     "name": "stdout",
     "output_type": "stream",
     "text": [
      "(19912,)\n"
     ]
    }
   ],
   "source": [
    "print(labelled[\"dlatitude\"].iloc[:-1].shape)"
   ]
  },
  {
   "cell_type": "code",
   "execution_count": null,
   "id": "19eda7f1",
   "metadata": {},
   "outputs": [],
   "source": []
  },
  {
   "cell_type": "code",
   "execution_count": 12,
   "id": "61228875",
   "metadata": {},
   "outputs": [],
   "source": [
    "X_train, X_test, y_lat_train, y_lat_test = train_test_split(\n",
    "    ordered.iloc[:-1], labelled[\"dlatitude\"].iloc[:-1], test_size=0.2, random_state=42\n",
    ")\n",
    "X_train, X_test, y_long_train, y_long_test = train_test_split(\n",
    "    ordered.iloc[:-1], labelled[\"dlongitude\"].iloc[:-1], test_size=0.2, random_state=42\n",
    ")"
   ]
  },
  {
   "cell_type": "code",
   "execution_count": 13,
   "id": "06f8424f",
   "metadata": {},
   "outputs": [
    {
     "data": {
      "text/plain": [
       "(15929, 6)"
      ]
     },
     "execution_count": 13,
     "metadata": {},
     "output_type": "execute_result"
    }
   ],
   "source": [
    "X_train.shape"
   ]
  },
  {
   "cell_type": "code",
   "execution_count": 14,
   "id": "2aa59021",
   "metadata": {},
   "outputs": [],
   "source": [
    "scaler = StandardScaler()"
   ]
  },
  {
   "cell_type": "code",
   "execution_count": 15,
   "id": "c4d18a4d",
   "metadata": {},
   "outputs": [],
   "source": [
    "X_train_no_date = X_train.drop(['date', 'hour'], axis=1)\n",
    "X_train_scaled = scaler.fit_transform(X_train_no_date)\n",
    "X_train_scaled_df = pd.DataFrame(X_train_scaled, columns=X_train_no_date.columns, index=X_train_no_date.index)\n",
    "X_train_scaled_df[['date', 'hour']] = X_train[['date', 'hour']]"
   ]
  },
  {
   "cell_type": "code",
   "execution_count": 16,
   "id": "2d648092",
   "metadata": {},
   "outputs": [],
   "source": [
    "X_test_no_date = X_test.drop(['date', 'hour'], axis=1)\n",
    "X_test_scaled = scaler.transform(X_test_no_date)\n",
    "X_test_scaled_df = pd.DataFrame(X_test_scaled, columns=X_test_no_date.columns, index=X_test_no_date.index)\n",
    "X_test_scaled_df[['date', 'hour']] = X_test[['date', 'hour']]"
   ]
  },
  {
   "cell_type": "code",
   "execution_count": 17,
   "id": "c3c805b3",
   "metadata": {},
   "outputs": [],
   "source": [
    "# extract day of the week and hour of the day from datetime columns\n",
    "X_train_scaled_df['weekday'] = X_train_scaled_df['date'].dt.weekday\n",
    "X_train_scaled_df['hour'] = pd.to_datetime(X_train_scaled_df['hour'].str.strip(), format='%H:%M:%S')\n",
    "X_train_scaled_df['hour'] = X_train_scaled_df['hour'].dt.hour\n",
    "\n",
    "X_test_scaled_df['weekday'] = X_test_scaled_df['date'].dt.weekday\n",
    "X_test_scaled_df['hour'] = pd.to_datetime(X_test_scaled_df['hour'].str.strip(), format='%H:%M:%S')\n",
    "X_test_scaled_df['hour'] = X_test_scaled_df['hour'].dt.hour\n",
    "\n",
    "# drop the original datetime columns\n",
    "X_train_scaled_df = X_train_scaled_df.drop(['date'], axis=1)\n",
    "X_test_scaled_df = X_test_scaled_df.drop(['date'], axis=1)"
   ]
  },
  {
   "cell_type": "code",
   "execution_count": 18,
   "id": "fffd66ba",
   "metadata": {},
   "outputs": [
    {
     "data": {
      "text/html": [
       "<div>\n",
       "<style scoped>\n",
       "    .dataframe tbody tr th:only-of-type {\n",
       "        vertical-align: middle;\n",
       "    }\n",
       "\n",
       "    .dataframe tbody tr th {\n",
       "        vertical-align: top;\n",
       "    }\n",
       "\n",
       "    .dataframe thead th {\n",
       "        text-align: right;\n",
       "    }\n",
       "</style>\n",
       "<table border=\"1\" class=\"dataframe\">\n",
       "  <thead>\n",
       "    <tr style=\"text-align: right;\">\n",
       "      <th></th>\n",
       "      <th>population</th>\n",
       "      <th>farmed</th>\n",
       "      <th>slatitude</th>\n",
       "      <th>slongitude</th>\n",
       "      <th>hour</th>\n",
       "      <th>weekday</th>\n",
       "    </tr>\n",
       "  </thead>\n",
       "  <tbody>\n",
       "    <tr>\n",
       "      <th>11284</th>\n",
       "      <td>0.030042</td>\n",
       "      <td>-0.524242</td>\n",
       "      <td>0.125260</td>\n",
       "      <td>0.133639</td>\n",
       "      <td>21</td>\n",
       "      <td>5</td>\n",
       "    </tr>\n",
       "    <tr>\n",
       "      <th>11964</th>\n",
       "      <td>0.138355</td>\n",
       "      <td>-0.524242</td>\n",
       "      <td>0.127363</td>\n",
       "      <td>0.126657</td>\n",
       "      <td>19</td>\n",
       "      <td>0</td>\n",
       "    </tr>\n",
       "    <tr>\n",
       "      <th>5390</th>\n",
       "      <td>-0.879784</td>\n",
       "      <td>-0.524242</td>\n",
       "      <td>0.125449</td>\n",
       "      <td>0.134608</td>\n",
       "      <td>15</td>\n",
       "      <td>4</td>\n",
       "    </tr>\n",
       "    <tr>\n",
       "      <th>860</th>\n",
       "      <td>-1.356359</td>\n",
       "      <td>-0.524242</td>\n",
       "      <td>0.124414</td>\n",
       "      <td>0.135708</td>\n",
       "      <td>18</td>\n",
       "      <td>2</td>\n",
       "    </tr>\n",
       "    <tr>\n",
       "      <th>15795</th>\n",
       "      <td>0.939869</td>\n",
       "      <td>-0.524242</td>\n",
       "      <td>0.125983</td>\n",
       "      <td>0.133088</td>\n",
       "      <td>3</td>\n",
       "      <td>0</td>\n",
       "    </tr>\n",
       "  </tbody>\n",
       "</table>\n",
       "</div>"
      ],
      "text/plain": [
       "       population    farmed  slatitude  slongitude  hour  weekday\n",
       "11284    0.030042 -0.524242   0.125260    0.133639    21        5\n",
       "11964    0.138355 -0.524242   0.127363    0.126657    19        0\n",
       "5390    -0.879784 -0.524242   0.125449    0.134608    15        4\n",
       "860     -1.356359 -0.524242   0.124414    0.135708    18        2\n",
       "15795    0.939869 -0.524242   0.125983    0.133088     3        0"
      ]
     },
     "execution_count": 18,
     "metadata": {},
     "output_type": "execute_result"
    }
   ],
   "source": [
    "X_train_scaled_df.tail(5)"
   ]
  },
  {
   "cell_type": "code",
   "execution_count": 19,
   "id": "9b8ac7cb",
   "metadata": {},
   "outputs": [
    {
     "data": {
      "text/html": [
       "<div>\n",
       "<style scoped>\n",
       "    .dataframe tbody tr th:only-of-type {\n",
       "        vertical-align: middle;\n",
       "    }\n",
       "\n",
       "    .dataframe tbody tr th {\n",
       "        vertical-align: top;\n",
       "    }\n",
       "\n",
       "    .dataframe thead th {\n",
       "        text-align: right;\n",
       "    }\n",
       "</style>\n",
       "<table border=\"1\" class=\"dataframe\">\n",
       "  <thead>\n",
       "    <tr style=\"text-align: right;\">\n",
       "      <th></th>\n",
       "      <th>population</th>\n",
       "      <th>farmed</th>\n",
       "      <th>slatitude</th>\n",
       "      <th>slongitude</th>\n",
       "      <th>hour</th>\n",
       "      <th>weekday</th>\n",
       "    </tr>\n",
       "  </thead>\n",
       "  <tbody>\n",
       "    <tr>\n",
       "      <th>16564</th>\n",
       "      <td>1.113169</td>\n",
       "      <td>1.907515</td>\n",
       "      <td>0.123946</td>\n",
       "      <td>0.131636</td>\n",
       "      <td>21</td>\n",
       "      <td>4</td>\n",
       "    </tr>\n",
       "    <tr>\n",
       "      <th>19327</th>\n",
       "      <td>1.849695</td>\n",
       "      <td>1.907515</td>\n",
       "      <td>-4.781471</td>\n",
       "      <td>-1.732344</td>\n",
       "      <td>10</td>\n",
       "      <td>0</td>\n",
       "    </tr>\n",
       "    <tr>\n",
       "      <th>15022</th>\n",
       "      <td>0.874881</td>\n",
       "      <td>-0.524242</td>\n",
       "      <td>0.126517</td>\n",
       "      <td>0.128668</td>\n",
       "      <td>0</td>\n",
       "      <td>3</td>\n",
       "    </tr>\n",
       "    <tr>\n",
       "      <th>2457</th>\n",
       "      <td>-1.139734</td>\n",
       "      <td>-0.524242</td>\n",
       "      <td>0.124135</td>\n",
       "      <td>0.135700</td>\n",
       "      <td>5</td>\n",
       "      <td>1</td>\n",
       "    </tr>\n",
       "    <tr>\n",
       "      <th>9210</th>\n",
       "      <td>-0.229908</td>\n",
       "      <td>-0.524242</td>\n",
       "      <td>0.121909</td>\n",
       "      <td>0.135181</td>\n",
       "      <td>17</td>\n",
       "      <td>5</td>\n",
       "    </tr>\n",
       "  </tbody>\n",
       "</table>\n",
       "</div>"
      ],
      "text/plain": [
       "       population    farmed  slatitude  slongitude  hour  weekday\n",
       "16564    1.113169  1.907515   0.123946    0.131636    21        4\n",
       "19327    1.849695  1.907515  -4.781471   -1.732344    10        0\n",
       "15022    0.874881 -0.524242   0.126517    0.128668     0        3\n",
       "2457    -1.139734 -0.524242   0.124135    0.135700     5        1\n",
       "9210    -0.229908 -0.524242   0.121909    0.135181    17        5"
      ]
     },
     "execution_count": 19,
     "metadata": {},
     "output_type": "execute_result"
    }
   ],
   "source": [
    "X_test_scaled_df.tail(5)"
   ]
  },
  {
   "cell_type": "code",
   "execution_count": 20,
   "id": "5793c78e",
   "metadata": {},
   "outputs": [],
   "source": [
    "n_units = 32\n",
    "activation = 'relu'\n",
    "loss_function = 'mean_squared_error'"
   ]
  },
  {
   "cell_type": "code",
   "execution_count": 21,
   "id": "30d2973a",
   "metadata": {},
   "outputs": [],
   "source": [
    "model = Sequential()\n",
    "model.add(Dense(n_units, activation=activation, input_shape=(X_train_scaled_df.shape[1],)))\n",
    "model.add(Dense(1))"
   ]
  },
  {
   "cell_type": "code",
   "execution_count": 22,
   "id": "239913bd",
   "metadata": {},
   "outputs": [],
   "source": [
    "model.compile(optimizer='adam', loss=loss_function)"
   ]
  },
  {
   "cell_type": "code",
   "execution_count": 23,
   "id": "ff81a61b",
   "metadata": {},
   "outputs": [
    {
     "name": "stdout",
     "output_type": "stream",
     "text": [
      "(15929, 6)\n"
     ]
    }
   ],
   "source": [
    "print(X_train_scaled_df.values.shape)"
   ]
  },
  {
   "cell_type": "code",
   "execution_count": 24,
   "id": "ececa6fa",
   "metadata": {},
   "outputs": [
    {
     "name": "stdout",
     "output_type": "stream",
     "text": [
      "(15929,)\n"
     ]
    }
   ],
   "source": [
    "print(y_lat_train.values.shape)"
   ]
  },
  {
   "cell_type": "code",
   "execution_count": 25,
   "id": "c44ccf62",
   "metadata": {},
   "outputs": [
    {
     "name": "stdout",
     "output_type": "stream",
     "text": [
      "(None, 6)\n"
     ]
    }
   ],
   "source": [
    "print(model.input_shape)"
   ]
  },
  {
   "cell_type": "code",
   "execution_count": null,
   "id": "a1020c2a",
   "metadata": {},
   "outputs": [],
   "source": []
  },
  {
   "cell_type": "code",
   "execution_count": 26,
   "id": "7dbb70f0",
   "metadata": {},
   "outputs": [
    {
     "data": {
      "text/plain": [
       "(15929, 6)"
      ]
     },
     "execution_count": 26,
     "metadata": {},
     "output_type": "execute_result"
    }
   ],
   "source": [
    "X_train_scaled_df.shape"
   ]
  },
  {
   "cell_type": "code",
   "execution_count": 27,
   "id": "210c1b8c",
   "metadata": {},
   "outputs": [
    {
     "data": {
      "text/plain": [
       "(3983, 6)"
      ]
     },
     "execution_count": 27,
     "metadata": {},
     "output_type": "execute_result"
    }
   ],
   "source": [
    "X_test_scaled_df.shape"
   ]
  },
  {
   "cell_type": "code",
   "execution_count": null,
   "id": "2700e795",
   "metadata": {},
   "outputs": [],
   "source": []
  },
  {
   "cell_type": "code",
   "execution_count": 28,
   "id": "8217a66b",
   "metadata": {},
   "outputs": [
    {
     "name": "stdout",
     "output_type": "stream",
     "text": [
      "Epoch 1/50\n",
      "498/498 [==============================] - 1s 2ms/step - loss: 1141.3245 - val_loss: 417.7145\n",
      "Epoch 2/50\n",
      "498/498 [==============================] - 1s 1ms/step - loss: 317.0868 - val_loss: 240.2453\n",
      "Epoch 3/50\n",
      "498/498 [==============================] - 1s 2ms/step - loss: 189.5831 - val_loss: 126.6056\n",
      "Epoch 4/50\n",
      "498/498 [==============================] - 1s 2ms/step - loss: 74.3824 - val_loss: 33.6468\n",
      "Epoch 5/50\n",
      "498/498 [==============================] - 1s 2ms/step - loss: 18.3450 - val_loss: 8.7505\n",
      "Epoch 6/50\n",
      "498/498 [==============================] - 1s 2ms/step - loss: 5.2530 - val_loss: 3.2243\n",
      "Epoch 7/50\n",
      "498/498 [==============================] - 1s 2ms/step - loss: 2.3496 - val_loss: 1.8607\n",
      "Epoch 8/50\n",
      "498/498 [==============================] - 1s 2ms/step - loss: 1.3737 - val_loss: 1.1058\n",
      "Epoch 9/50\n",
      "498/498 [==============================] - 1s 2ms/step - loss: 0.8275 - val_loss: 0.7389\n",
      "Epoch 10/50\n",
      "498/498 [==============================] - 1s 1ms/step - loss: 0.5900 - val_loss: 0.5853\n",
      "Epoch 11/50\n",
      "498/498 [==============================] - 1s 1ms/step - loss: 0.4930 - val_loss: 0.5185\n",
      "Epoch 12/50\n",
      "498/498 [==============================] - 1s 2ms/step - loss: 0.4304 - val_loss: 0.4775\n",
      "Epoch 13/50\n",
      "498/498 [==============================] - 1s 2ms/step - loss: 0.3834 - val_loss: 0.4362\n",
      "Epoch 14/50\n",
      "498/498 [==============================] - 1s 2ms/step - loss: 0.3395 - val_loss: 0.3943\n",
      "Epoch 15/50\n",
      "498/498 [==============================] - 1s 1ms/step - loss: 0.2990 - val_loss: 0.3639\n",
      "Epoch 16/50\n",
      "498/498 [==============================] - 1s 1ms/step - loss: 0.2599 - val_loss: 0.3347\n",
      "Epoch 17/50\n",
      "498/498 [==============================] - 1s 1ms/step - loss: 0.2296 - val_loss: 0.3438\n",
      "Epoch 18/50\n",
      "498/498 [==============================] - 1s 2ms/step - loss: 0.2015 - val_loss: 0.2947\n",
      "Epoch 19/50\n",
      "498/498 [==============================] - 1s 2ms/step - loss: 0.1759 - val_loss: 0.2817\n",
      "Epoch 20/50\n",
      "498/498 [==============================] - 1s 2ms/step - loss: 0.1547 - val_loss: 0.2612\n",
      "Epoch 21/50\n",
      "498/498 [==============================] - 1s 1ms/step - loss: 0.1345 - val_loss: 0.2432\n",
      "Epoch 22/50\n",
      "498/498 [==============================] - 1s 2ms/step - loss: 0.1142 - val_loss: 0.2240\n",
      "Epoch 23/50\n",
      "498/498 [==============================] - 1s 2ms/step - loss: 0.0926 - val_loss: 0.2164\n",
      "Epoch 24/50\n",
      "498/498 [==============================] - 1s 3ms/step - loss: 0.0793 - val_loss: 0.2106\n",
      "Epoch 25/50\n",
      "498/498 [==============================] - 1s 3ms/step - loss: 0.0683 - val_loss: 0.1949\n",
      "Epoch 26/50\n",
      "498/498 [==============================] - 1s 2ms/step - loss: 0.0580 - val_loss: 0.1903\n",
      "Epoch 27/50\n",
      "498/498 [==============================] - 1s 2ms/step - loss: 0.0493 - val_loss: 0.1910\n",
      "Epoch 28/50\n",
      "498/498 [==============================] - 1s 3ms/step - loss: 0.0448 - val_loss: 0.1843\n",
      "Epoch 29/50\n",
      "498/498 [==============================] - 1s 2ms/step - loss: 0.0372 - val_loss: 0.1806\n",
      "Epoch 30/50\n",
      "498/498 [==============================] - 1s 1ms/step - loss: 0.0324 - val_loss: 0.1713\n",
      "Epoch 31/50\n",
      "498/498 [==============================] - 1s 2ms/step - loss: 0.0265 - val_loss: 0.1643\n",
      "Epoch 32/50\n",
      "498/498 [==============================] - 1s 1ms/step - loss: 0.0233 - val_loss: 0.1795\n",
      "Epoch 33/50\n",
      "498/498 [==============================] - 1s 2ms/step - loss: 0.0201 - val_loss: 0.1553\n",
      "Epoch 34/50\n",
      "498/498 [==============================] - 1s 2ms/step - loss: 0.0171 - val_loss: 0.1604\n",
      "Epoch 35/50\n",
      "498/498 [==============================] - 1s 2ms/step - loss: 0.0145 - val_loss: 0.1639\n",
      "Epoch 36/50\n",
      "498/498 [==============================] - 1s 1ms/step - loss: 0.0129 - val_loss: 0.1424\n",
      "Epoch 37/50\n",
      "498/498 [==============================] - 1s 1ms/step - loss: 0.0113 - val_loss: 0.1394\n",
      "Epoch 38/50\n",
      "498/498 [==============================] - 1s 1ms/step - loss: 0.0111 - val_loss: 0.1354\n",
      "Epoch 39/50\n",
      "498/498 [==============================] - 1s 2ms/step - loss: 0.0096 - val_loss: 0.1395\n",
      "Epoch 40/50\n",
      "498/498 [==============================] - 1s 2ms/step - loss: 0.0087 - val_loss: 0.1314\n",
      "Epoch 41/50\n",
      "498/498 [==============================] - 1s 2ms/step - loss: 0.0069 - val_loss: 0.1275\n",
      "Epoch 42/50\n",
      "498/498 [==============================] - 1s 2ms/step - loss: 0.0068 - val_loss: 0.1217\n",
      "Epoch 43/50\n",
      "498/498 [==============================] - 1s 2ms/step - loss: 0.0065 - val_loss: 0.1192\n",
      "Epoch 44/50\n",
      "498/498 [==============================] - 1s 2ms/step - loss: 0.0066 - val_loss: 0.1142\n",
      "Epoch 45/50\n",
      "498/498 [==============================] - 1s 2ms/step - loss: 0.0055 - val_loss: 0.1139\n",
      "Epoch 46/50\n",
      "498/498 [==============================] - 1s 2ms/step - loss: 0.0049 - val_loss: 0.1118\n",
      "Epoch 47/50\n",
      "498/498 [==============================] - 1s 1ms/step - loss: 0.0049 - val_loss: 0.1086\n",
      "Epoch 48/50\n",
      "498/498 [==============================] - 1s 1ms/step - loss: 0.0048 - val_loss: 0.1064\n",
      "Epoch 49/50\n",
      "498/498 [==============================] - 1s 1ms/step - loss: 0.0048 - val_loss: 0.1072\n",
      "Epoch 50/50\n",
      "498/498 [==============================] - 1s 1ms/step - loss: 0.0058 - val_loss: 0.1036\n"
     ]
    }
   ],
   "source": [
    "historyLat=model.fit(X_train_scaled_df.values, y_lat_train, validation_data=(X_test_scaled_df.values, y_lat_test), epochs=50)"
   ]
  },
  {
   "cell_type": "code",
   "execution_count": 29,
   "id": "cdf13cde",
   "metadata": {},
   "outputs": [
    {
     "name": "stdout",
     "output_type": "stream",
     "text": [
      "Epoch 1/50\n",
      "463/498 [==========================>...] - ETA: 0s - loss: 84.2874WARNING:tensorflow:Callbacks method `on_test_batch_end` is slow compared to the batch time (batch time: 0.0005s vs `on_test_batch_end` time: 0.0010s). Check your callbacks.\n",
      "498/498 [==============================] - 1s 2ms/step - loss: 79.8284 - val_loss: 16.7985\n",
      "Epoch 2/50\n",
      "498/498 [==============================] - 1s 2ms/step - loss: 9.0399 - val_loss: 5.1055\n",
      "Epoch 3/50\n",
      "498/498 [==============================] - 1s 1ms/step - loss: 3.8735 - val_loss: 3.2589\n",
      "Epoch 4/50\n",
      "498/498 [==============================] - 1s 1ms/step - loss: 2.7854 - val_loss: 2.4979\n",
      "Epoch 5/50\n",
      "498/498 [==============================] - 1s 1ms/step - loss: 2.1491 - val_loss: 1.9067\n",
      "Epoch 6/50\n",
      "498/498 [==============================] - 1s 1ms/step - loss: 1.5698 - val_loss: 1.3226\n",
      "Epoch 7/50\n",
      "498/498 [==============================] - 1s 1ms/step - loss: 1.0750 - val_loss: 0.8882\n",
      "Epoch 8/50\n",
      "498/498 [==============================] - 1s 2ms/step - loss: 0.7078 - val_loss: 0.5524\n",
      "Epoch 9/50\n",
      "498/498 [==============================] - 1s 2ms/step - loss: 0.4030 - val_loss: 0.2855\n",
      "Epoch 10/50\n",
      "498/498 [==============================] - 1s 2ms/step - loss: 0.2012 - val_loss: 0.1543\n",
      "Epoch 11/50\n",
      "498/498 [==============================] - 1s 2ms/step - loss: 0.1123 - val_loss: 0.0945\n",
      "Epoch 12/50\n",
      "498/498 [==============================] - 1s 2ms/step - loss: 0.0708 - val_loss: 0.0725\n",
      "Epoch 13/50\n",
      "498/498 [==============================] - 1s 2ms/step - loss: 0.0525 - val_loss: 0.0578\n",
      "Epoch 14/50\n",
      "498/498 [==============================] - 1s 2ms/step - loss: 0.0423 - val_loss: 0.0521\n",
      "Epoch 15/50\n",
      "498/498 [==============================] - 1s 1ms/step - loss: 0.0352 - val_loss: 0.0492\n",
      "Epoch 16/50\n",
      "498/498 [==============================] - 1s 1ms/step - loss: 0.0290 - val_loss: 0.0454\n",
      "Epoch 17/50\n",
      "498/498 [==============================] - 1s 1ms/step - loss: 0.0241 - val_loss: 0.0439\n",
      "Epoch 18/50\n",
      "498/498 [==============================] - 1s 1ms/step - loss: 0.0195 - val_loss: 0.0409\n",
      "Epoch 19/50\n",
      "498/498 [==============================] - 1s 1ms/step - loss: 0.0159 - val_loss: 0.0408\n",
      "Epoch 20/50\n",
      "498/498 [==============================] - 1s 2ms/step - loss: 0.0135 - val_loss: 0.0424\n",
      "Epoch 21/50\n",
      "498/498 [==============================] - 1s 1ms/step - loss: 0.0113 - val_loss: 0.0405\n",
      "Epoch 22/50\n",
      "498/498 [==============================] - 1s 2ms/step - loss: 0.0098 - val_loss: 0.0402\n",
      "Epoch 23/50\n",
      "498/498 [==============================] - 1s 2ms/step - loss: 0.0087 - val_loss: 0.0402\n",
      "Epoch 24/50\n",
      "498/498 [==============================] - 1s 1ms/step - loss: 0.0081 - val_loss: 0.0403\n",
      "Epoch 25/50\n",
      "498/498 [==============================] - 1s 1ms/step - loss: 0.0075 - val_loss: 0.0425\n",
      "Epoch 26/50\n",
      "498/498 [==============================] - 1s 1ms/step - loss: 0.0070 - val_loss: 0.0412\n",
      "Epoch 27/50\n",
      "498/498 [==============================] - 1s 2ms/step - loss: 0.0066 - val_loss: 0.0403\n",
      "Epoch 28/50\n",
      "498/498 [==============================] - 1s 2ms/step - loss: 0.0062 - val_loss: 0.0391\n",
      "Epoch 29/50\n",
      "498/498 [==============================] - 1s 2ms/step - loss: 0.0062 - val_loss: 0.0395\n",
      "Epoch 30/50\n",
      "498/498 [==============================] - 1s 2ms/step - loss: 0.0062 - val_loss: 0.0397\n",
      "Epoch 31/50\n",
      "498/498 [==============================] - 1s 2ms/step - loss: 0.0057 - val_loss: 0.0398\n",
      "Epoch 32/50\n",
      "498/498 [==============================] - 1s 2ms/step - loss: 0.0056 - val_loss: 0.0372\n",
      "Epoch 33/50\n",
      "498/498 [==============================] - 1s 2ms/step - loss: 0.0057 - val_loss: 0.0370\n",
      "Epoch 34/50\n",
      "498/498 [==============================] - 1s 2ms/step - loss: 0.0054 - val_loss: 0.0366\n",
      "Epoch 35/50\n",
      "498/498 [==============================] - 1s 1ms/step - loss: 0.0054 - val_loss: 0.0370\n",
      "Epoch 36/50\n",
      "498/498 [==============================] - 1s 1ms/step - loss: 0.0054 - val_loss: 0.0371\n",
      "Epoch 37/50\n",
      "498/498 [==============================] - 1s 1ms/step - loss: 0.0055 - val_loss: 0.0358\n",
      "Epoch 38/50\n",
      "498/498 [==============================] - 1s 1ms/step - loss: 0.0055 - val_loss: 0.0379\n",
      "Epoch 39/50\n",
      "498/498 [==============================] - 1s 2ms/step - loss: 0.0050 - val_loss: 0.0362\n",
      "Epoch 40/50\n",
      "498/498 [==============================] - 1s 1ms/step - loss: 0.0052 - val_loss: 0.0353\n",
      "Epoch 41/50\n",
      "498/498 [==============================] - 1s 1ms/step - loss: 0.0051 - val_loss: 0.0349\n",
      "Epoch 42/50\n",
      "498/498 [==============================] - 1s 1ms/step - loss: 0.0054 - val_loss: 0.0353\n",
      "Epoch 43/50\n",
      "498/498 [==============================] - 1s 1ms/step - loss: 0.0051 - val_loss: 0.0391\n",
      "Epoch 44/50\n",
      "498/498 [==============================] - 1s 1ms/step - loss: 0.0053 - val_loss: 0.0369\n",
      "Epoch 45/50\n",
      "498/498 [==============================] - 1s 1ms/step - loss: 0.0053 - val_loss: 0.0353\n",
      "Epoch 46/50\n",
      "498/498 [==============================] - 1s 2ms/step - loss: 0.0053 - val_loss: 0.0340\n",
      "Epoch 47/50\n",
      "498/498 [==============================] - 1s 2ms/step - loss: 0.0051 - val_loss: 0.0368\n",
      "Epoch 48/50\n",
      "498/498 [==============================] - 1s 2ms/step - loss: 0.0050 - val_loss: 0.0345\n",
      "Epoch 49/50\n",
      "498/498 [==============================] - 1s 2ms/step - loss: 0.0052 - val_loss: 0.0344\n",
      "Epoch 50/50\n",
      "498/498 [==============================] - 1s 2ms/step - loss: 0.0050 - val_loss: 0.0338\n"
     ]
    }
   ],
   "source": [
    "historyLong=model.fit(X_train_scaled_df.values, y_long_train, validation_data=(X_test_scaled_df.values, y_long_test), epochs=50)"
   ]
  },
  {
   "cell_type": "code",
   "execution_count": 30,
   "id": "4f35d76b",
   "metadata": {},
   "outputs": [
    {
     "name": "stdout",
     "output_type": "stream",
     "text": [
      "Mean Absolute Error (MAE): 0.017383679001218424\n",
      "Root Mean Squared Error (RMSE): 0.1838764540167644\n"
     ]
    }
   ],
   "source": [
    "# Predict the Longitude values for the test set\n",
    "y_long_pred = model.predict(X_test_scaled_df)\n",
    "\n",
    "# Compute the mean absolute error and root mean squared error\n",
    "mae = mean_absolute_error(y_long_test, y_long_pred)\n",
    "rmse = mean_squared_error(y_long_test, y_long_pred, squared=False)\n",
    "\n",
    "# Print the MAE and RMSE\n",
    "print('Mean Absolute Error (MAE):', mae)\n",
    "print('Root Mean Squared Error (RMSE):', rmse)"
   ]
  },
  {
   "cell_type": "code",
   "execution_count": 31,
   "id": "9a523b7e",
   "metadata": {},
   "outputs": [
    {
     "name": "stdout",
     "output_type": "stream",
     "text": [
      "Mean Absolute Error (MAE): 42.46030452821499\n",
      "Root Mean Squared Error (RMSE): 42.46088367512641\n"
     ]
    }
   ],
   "source": [
    "# Predict the Longitude values for the test set\n",
    "y_lat_pred = model.predict(X_test_scaled_df)\n",
    "\n",
    "# Compute the mean absolute error and root mean squared error\n",
    "mae = mean_absolute_error(y_lat_test, y_lat_pred)\n",
    "rmse = mean_squared_error(y_lat_test, y_lat_pred, squared=False)\n",
    "\n",
    "# Print the MAE and RMSE\n",
    "print('Mean Absolute Error (MAE):', mae)\n",
    "print('Root Mean Squared Error (RMSE):', rmse)"
   ]
  },
  {
   "cell_type": "code",
   "execution_count": 32,
   "id": "055cd812",
   "metadata": {},
   "outputs": [
    {
     "data": {
      "image/png": "[encoded data removed]",
      "text/plain": [
       "<Figure size 432x288 with 1 Axes>"
      ]
     },
     "metadata": {
      "needs_background": "light"
     },
     "output_type": "display_data"
    }
   ],
   "source": [
    "# create scatter plot\n",
    "plt.scatter(y_lat_pred, y_long_pred, c='r', label='Predicted')\n",
    "plt.scatter(y_lat_test, y_long_test, c='b', label='Test')\n",
    "\n",
    "# add labels and legend\n",
    "plt.xlabel('Latitude')\n",
    "plt.ylabel('Longitude')\n",
    "plt.legend()\n",
    "\n",
    "# show plot\n",
    "plt.show()"
   ]
  },
  {
   "cell_type": "code",
   "execution_count": null,
   "id": "7d433adc",
   "metadata": {},
   "outputs": [],
   "source": []
  }
 ],
 "metadata": {
  "kernelspec": {
   "display_name": "Python 3 (ipykernel)",
   "language": "python",
   "name": "python3"
  },
  "language_info": {
   "codemirror_mode": {
    "name": "ipython",
    "version": 3
   },
   "file_extension": ".py",
   "mimetype": "text/x-python",
   "name": "python",
   "nbconvert_exporter": "python",
   "pygments_lexer": "ipython3",
   "version": "3.7.10"
  }
 },
 "nbformat": 4,
 "nbformat_minor": 5
}
